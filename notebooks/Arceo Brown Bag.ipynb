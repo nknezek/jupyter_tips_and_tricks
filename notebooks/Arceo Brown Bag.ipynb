{
 "cells": [
  {
   "cell_type": "markdown",
   "metadata": {
    "toc": true
   },
   "source": [
    "<h1>Table of Contents<span class=\"tocSkip\"></span></h1>\n",
    "<div class=\"toc\"><ul class=\"toc-item\"><li><span><a href=\"#Literate-Programming\" data-toc-modified-id=\"Literate-Programming-1\"><span class=\"toc-item-num\">1&nbsp;&nbsp;</span>Literate Programming</a></span><ul class=\"toc-item\"><li><span><a href=\"#markdown-/-$\\LaTeX$\" data-toc-modified-id=\"markdown-/-$\\LaTeX$-1.1\"><span class=\"toc-item-num\">1.1&nbsp;&nbsp;</span>markdown / $\\LaTeX$</a></span></li><li><span><a href=\"#table-of-contents\" data-toc-modified-id=\"table-of-contents-1.2\"><span class=\"toc-item-num\">1.2&nbsp;&nbsp;</span>table of contents</a></span></li></ul></li><li><span><a href=\"#Interactive-Coding\" data-toc-modified-id=\"Interactive-Coding-2\"><span class=\"toc-item-num\">2&nbsp;&nbsp;</span>Interactive Coding</a></span><ul class=\"toc-item\"><li><span><a href=\"#Live-Data-Exploration\" data-toc-modified-id=\"Live-Data-Exploration-2.1\"><span class=\"toc-item-num\">2.1&nbsp;&nbsp;</span>Live Data Exploration</a></span></li><li><span><a href=\"#Plots\" data-toc-modified-id=\"Plots-2.2\"><span class=\"toc-item-num\">2.2&nbsp;&nbsp;</span>Plots</a></span></li><li><span><a href=\"#Interactive-Plots-(widgets-+-ipyvolume)\" data-toc-modified-id=\"Interactive-Plots-(widgets-+-ipyvolume)-2.3\"><span class=\"toc-item-num\">2.3&nbsp;&nbsp;</span>Interactive Plots (widgets + ipyvolume)</a></span></li></ul></li><li><span><a href=\"#External-Data-Input\" data-toc-modified-id=\"External-Data-Input-3\"><span class=\"toc-item-num\">3&nbsp;&nbsp;</span>External Data Input</a></span><ul class=\"toc-item\"><li><span><a href=\"#ipython-magics-(!,-%,-%%)\" data-toc-modified-id=\"ipython-magics-(!,-%,-%%)-3.1\"><span class=\"toc-item-num\">3.1&nbsp;&nbsp;</span>ipython magics (!, %, %%)</a></span></li><li><span><a href=\"#SQL\" data-toc-modified-id=\"SQL-3.2\"><span class=\"toc-item-num\">3.2&nbsp;&nbsp;</span>SQL</a></span></li></ul></li><li><span><a href=\"#Exporting\" data-toc-modified-id=\"Exporting-4\"><span class=\"toc-item-num\">4&nbsp;&nbsp;</span>Exporting</a></span><ul class=\"toc-item\"><li><span><a href=\"#plots-&amp;-figures\" data-toc-modified-id=\"plots-&amp;-figures-4.1\"><span class=\"toc-item-num\">4.1&nbsp;&nbsp;</span>plots &amp; figures</a></span></li><li><span><a href=\"#HTML-/-pdf-with-nbconvert\" data-toc-modified-id=\"HTML-/-pdf-with-nbconvert-4.2\"><span class=\"toc-item-num\">4.2&nbsp;&nbsp;</span>HTML / pdf with nbconvert</a></span></li><li><span><a href=\"#Github\" data-toc-modified-id=\"Github-4.3\"><span class=\"toc-item-num\">4.3&nbsp;&nbsp;</span>Github</a></span></li><li><span><a href=\"#Others\" data-toc-modified-id=\"Others-4.4\"><span class=\"toc-item-num\">4.4&nbsp;&nbsp;</span>Others</a></span></li></ul></li><li><span><a href=\"#useful-tips-&amp;-tricks\" data-toc-modified-id=\"useful-tips-&amp;-tricks-5\"><span class=\"toc-item-num\">5&nbsp;&nbsp;</span>useful tips &amp; tricks</a></span><ul class=\"toc-item\"><li><span><a href=\"#nbextensions\" data-toc-modified-id=\"nbextensions-5.1\"><span class=\"toc-item-num\">5.1&nbsp;&nbsp;</span>nbextensions</a></span></li></ul></li><li><span><a href=\"#future-/-other-exciting-things\" data-toc-modified-id=\"future-/-other-exciting-things-6\"><span class=\"toc-item-num\">6&nbsp;&nbsp;</span>future / other exciting things</a></span><ul class=\"toc-item\"><li><span><a href=\"#jupyterlab\" data-toc-modified-id=\"jupyterlab-6.1\"><span class=\"toc-item-num\">6.1&nbsp;&nbsp;</span><a href=\"https://jupyterlab.readthedocs.io/en/stable/\" target=\"_blank\">jupyterlab</a></a></span></li><li><span><a href=\"#Google-Colaboratory\" data-toc-modified-id=\"Google-Colaboratory-6.2\"><span class=\"toc-item-num\">6.2&nbsp;&nbsp;</span><a href=\"https://colab.research.google.com/\" target=\"_blank\">Google Colaboratory</a></a></span></li></ul></li></ul></div>"
   ]
  },
  {
   "cell_type": "markdown",
   "metadata": {},
   "source": [
    "# Literate Programming\n",
    "\"Literate Programming\" is a programming paradigm in which an explanation of the program logic is interspersed with snippets of macros and traditional source code ([wikipedia](https://en.wikipedia.org/wiki/Literate_programming)).\n",
    "\n",
    "e.g. let's set a few variables"
   ]
  },
  {
   "cell_type": "code",
   "execution_count": 1,
   "metadata": {
    "ExecuteTime": {
     "end_time": "2018-11-28T20:18:14.640392Z",
     "start_time": "2018-11-28T20:18:14.637890Z"
    }
   },
   "outputs": [],
   "source": [
    "a = 1\n",
    "b = 2"
   ]
  },
  {
   "cell_type": "markdown",
   "metadata": {},
   "source": [
    "and now we can add them and see the output!"
   ]
  },
  {
   "cell_type": "code",
   "execution_count": 2,
   "metadata": {
    "ExecuteTime": {
     "end_time": "2018-11-28T20:18:18.662324Z",
     "start_time": "2018-11-28T20:18:18.652484Z"
    }
   },
   "outputs": [
    {
     "data": {
      "text/plain": [
       "3"
      ]
     },
     "execution_count": 2,
     "metadata": {},
     "output_type": "execute_result"
    }
   ],
   "source": [
    "a+b"
   ]
  },
  {
   "cell_type": "markdown",
   "metadata": {
    "ExecuteTime": {
     "end_time": "2018-11-26T17:04:46.168545Z",
     "start_time": "2018-11-26T17:04:46.166132Z"
    }
   },
   "source": [
    "## markdown / $\\LaTeX$\n",
    "We can use all the typical markdown notation \n",
    "* bullet\n",
    "* lists\n",
    " - with\n",
    " - multiple\n",
    "  - levels\n",
    "\n",
    "\n",
    "1. numbered\n",
    "2. lists\n",
    "\n",
    "**bold** and *italics*. [links](https://www.youtube.com/watch?v=dQw4w9WgXcQ).\n",
    "\n",
    "Even $\\LaTeX$ (math equations mostly)! ($y=x^2$)\n",
    "$$y = \\int_0^2\\sin(x)$$"
   ]
  },
  {
   "cell_type": "markdown",
   "metadata": {},
   "source": [
    "## table of contents\n",
    "(see left, or top of notebook)\n",
    "Very useful for organizing work or presenting to others"
   ]
  },
  {
   "cell_type": "markdown",
   "metadata": {},
   "source": [
    "# Interactive Coding"
   ]
  },
  {
   "cell_type": "code",
   "execution_count": 3,
   "metadata": {
    "ExecuteTime": {
     "end_time": "2018-11-28T20:20:37.603521Z",
     "start_time": "2018-11-28T20:20:36.519721Z"
    }
   },
   "outputs": [],
   "source": [
    "# basic snippet\n",
    "import numpy as np\n",
    "import matplotlib.pyplot as plt\n",
    "import pandas as pd\n",
    "import dill\n",
    "import sys, os\n",
    "import seaborn as sns\n",
    "%matplotlib inline"
   ]
  },
  {
   "cell_type": "code",
   "execution_count": 4,
   "metadata": {
    "ExecuteTime": {
     "end_time": "2018-11-28T20:21:09.716963Z",
     "start_time": "2018-11-28T20:21:09.711480Z"
    }
   },
   "outputs": [
    {
     "data": {
      "text/plain": [
       "-0.5440211108893699"
      ]
     },
     "execution_count": 4,
     "metadata": {},
     "output_type": "execute_result"
    }
   ],
   "source": [
    "# tab-complete\n",
    "np.sin()\n",
    "# tab-info\n"
   ]
  },
  {
   "cell_type": "code",
   "execution_count": 5,
   "metadata": {
    "ExecuteTime": {
     "end_time": "2018-11-28T20:21:55.601527Z",
     "start_time": "2018-11-28T20:21:55.595669Z"
    }
   },
   "outputs": [],
   "source": [
    "np.sin??"
   ]
  },
  {
   "cell_type": "code",
   "execution_count": 9,
   "metadata": {
    "ExecuteTime": {
     "end_time": "2018-11-28T20:22:33.501289Z",
     "start_time": "2018-11-28T20:22:33.498835Z"
    }
   },
   "outputs": [],
   "source": [
    "x = [1,2,3]"
   ]
  },
  {
   "cell_type": "code",
   "execution_count": 8,
   "metadata": {
    "ExecuteTime": {
     "end_time": "2018-11-28T20:22:07.752713Z",
     "start_time": "2018-11-28T20:22:07.748333Z"
    }
   },
   "outputs": [
    {
     "data": {
      "text/plain": [
       "8"
      ]
     },
     "execution_count": 8,
     "metadata": {},
     "output_type": "execute_result"
    }
   ],
   "source": [
    "# live outputs\n",
    "y = 10100\n",
    "y + 10100"
   ]
  },
  {
   "cell_type": "markdown",
   "metadata": {},
   "source": [
    "## Live Data Exploration"
   ]
  },
  {
   "cell_type": "code",
   "execution_count": 25,
   "metadata": {
    "ExecuteTime": {
     "end_time": "2018-11-28T20:25:42.570903Z",
     "start_time": "2018-11-28T20:25:42.564703Z"
    }
   },
   "outputs": [],
   "source": [
    "df = pd.read_csv(\"../data/mps.csv\", encoding=\"ISO-8859-1\")"
   ]
  },
  {
   "cell_type": "code",
   "execution_count": 26,
   "metadata": {
    "ExecuteTime": {
     "end_time": "2018-11-28T20:25:42.722145Z",
     "start_time": "2018-11-28T20:25:42.715186Z"
    }
   },
   "outputs": [
    {
     "name": "stdout",
     "output_type": "stream",
     "text": [
      "<class 'pandas.core.frame.DataFrame'>\n",
      "RangeIndex: 308 entries, 0 to 307\n",
      "Data columns (total 5 columns):\n",
      "Name        308 non-null object\n",
      "Party       308 non-null object\n",
      "Province    308 non-null object\n",
      "Age         305 non-null float64\n",
      "Gender      308 non-null object\n",
      "dtypes: float64(1), object(4)\n",
      "memory usage: 12.1+ KB\n"
     ]
    }
   ],
   "source": [
    "df.info()"
   ]
  },
  {
   "cell_type": "code",
   "execution_count": 27,
   "metadata": {
    "ExecuteTime": {
     "end_time": "2018-11-28T20:25:42.981229Z",
     "start_time": "2018-11-28T20:25:42.965031Z"
    }
   },
   "outputs": [
    {
     "data": {
      "text/html": [
       "<div>\n",
       "<style scoped>\n",
       "    .dataframe tbody tr th:only-of-type {\n",
       "        vertical-align: middle;\n",
       "    }\n",
       "\n",
       "    .dataframe tbody tr th {\n",
       "        vertical-align: top;\n",
       "    }\n",
       "\n",
       "    .dataframe thead th {\n",
       "        text-align: right;\n",
       "    }\n",
       "</style>\n",
       "<table border=\"1\" class=\"dataframe\">\n",
       "  <thead>\n",
       "    <tr style=\"text-align: right;\">\n",
       "      <th></th>\n",
       "      <th>Name</th>\n",
       "      <th>Party</th>\n",
       "      <th>Province</th>\n",
       "      <th>Age</th>\n",
       "      <th>Gender</th>\n",
       "    </tr>\n",
       "  </thead>\n",
       "  <tbody>\n",
       "    <tr>\n",
       "      <th>0</th>\n",
       "      <td>Liu, Laurin</td>\n",
       "      <td>NDP</td>\n",
       "      <td>Quebec</td>\n",
       "      <td>22.0</td>\n",
       "      <td>Female</td>\n",
       "    </tr>\n",
       "    <tr>\n",
       "      <th>1</th>\n",
       "      <td>Mourani, Maria</td>\n",
       "      <td>Bloc Quebecois</td>\n",
       "      <td>Quebec</td>\n",
       "      <td>43.0</td>\n",
       "      <td>Female</td>\n",
       "    </tr>\n",
       "    <tr>\n",
       "      <th>2</th>\n",
       "      <td>Sellah, Djaouida</td>\n",
       "      <td>NDP</td>\n",
       "      <td>Quebec</td>\n",
       "      <td>NaN</td>\n",
       "      <td>Female</td>\n",
       "    </tr>\n",
       "    <tr>\n",
       "      <th>3</th>\n",
       "      <td>St-Denis, Lise</td>\n",
       "      <td>NDP</td>\n",
       "      <td>Quebec</td>\n",
       "      <td>72.0</td>\n",
       "      <td>Female</td>\n",
       "    </tr>\n",
       "    <tr>\n",
       "      <th>4</th>\n",
       "      <td>Fry, Hedy</td>\n",
       "      <td>Liberal</td>\n",
       "      <td>British Columbia</td>\n",
       "      <td>71.0</td>\n",
       "      <td>Female</td>\n",
       "    </tr>\n",
       "    <tr>\n",
       "      <th>5</th>\n",
       "      <td>Turmel, Nycole</td>\n",
       "      <td>NDP</td>\n",
       "      <td>Quebec</td>\n",
       "      <td>70.0</td>\n",
       "      <td>Female</td>\n",
       "    </tr>\n",
       "    <tr>\n",
       "      <th>6</th>\n",
       "      <td>Sgro, Judy</td>\n",
       "      <td>Liberal</td>\n",
       "      <td>Ontario</td>\n",
       "      <td>68.0</td>\n",
       "      <td>Female</td>\n",
       "    </tr>\n",
       "    <tr>\n",
       "      <th>7</th>\n",
       "      <td>Raynault, Francine</td>\n",
       "      <td>NDP</td>\n",
       "      <td>Quebec</td>\n",
       "      <td>67.0</td>\n",
       "      <td>Female</td>\n",
       "    </tr>\n",
       "    <tr>\n",
       "      <th>8</th>\n",
       "      <td>Davidson, Patricia</td>\n",
       "      <td>Conservative</td>\n",
       "      <td>Ontario</td>\n",
       "      <td>66.0</td>\n",
       "      <td>Female</td>\n",
       "    </tr>\n",
       "    <tr>\n",
       "      <th>9</th>\n",
       "      <td>Smith, Joy</td>\n",
       "      <td>Conservative</td>\n",
       "      <td>Manitoba</td>\n",
       "      <td>65.0</td>\n",
       "      <td>Female</td>\n",
       "    </tr>\n",
       "  </tbody>\n",
       "</table>\n",
       "</div>"
      ],
      "text/plain": [
       "                 Name           Party          Province   Age  Gender\n",
       "0         Liu, Laurin             NDP            Quebec  22.0  Female\n",
       "1      Mourani, Maria  Bloc Quebecois            Quebec  43.0  Female\n",
       "2    Sellah, Djaouida             NDP            Quebec   NaN  Female\n",
       "3      St-Denis, Lise             NDP            Quebec  72.0  Female\n",
       "4           Fry, Hedy         Liberal  British Columbia  71.0  Female\n",
       "5      Turmel, Nycole             NDP            Quebec  70.0  Female\n",
       "6          Sgro, Judy         Liberal           Ontario  68.0  Female\n",
       "7  Raynault, Francine             NDP            Quebec  67.0  Female\n",
       "8  Davidson, Patricia    Conservative           Ontario  66.0  Female\n",
       "9          Smith, Joy    Conservative          Manitoba  65.0  Female"
      ]
     },
     "execution_count": 27,
     "metadata": {},
     "output_type": "execute_result"
    }
   ],
   "source": [
    "# recommend using .head()\n",
    "df.head(10)"
   ]
  },
  {
   "cell_type": "code",
   "execution_count": 28,
   "metadata": {
    "ExecuteTime": {
     "end_time": "2018-11-28T20:25:43.291498Z",
     "start_time": "2018-11-28T20:25:43.278626Z"
    }
   },
   "outputs": [
    {
     "data": {
      "text/html": [
       "<div>\n",
       "<style scoped>\n",
       "    .dataframe tbody tr th:only-of-type {\n",
       "        vertical-align: middle;\n",
       "    }\n",
       "\n",
       "    .dataframe tbody tr th {\n",
       "        vertical-align: top;\n",
       "    }\n",
       "\n",
       "    .dataframe thead th {\n",
       "        text-align: right;\n",
       "    }\n",
       "</style>\n",
       "<table border=\"1\" class=\"dataframe\">\n",
       "  <thead>\n",
       "    <tr style=\"text-align: right;\">\n",
       "      <th></th>\n",
       "      <th>Name</th>\n",
       "      <th>Party</th>\n",
       "      <th>Province</th>\n",
       "      <th>Age</th>\n",
       "      <th>Gender</th>\n",
       "    </tr>\n",
       "  </thead>\n",
       "  <tbody>\n",
       "    <tr>\n",
       "      <th>9</th>\n",
       "      <td>Smith, Joy</td>\n",
       "      <td>Conservative</td>\n",
       "      <td>Manitoba</td>\n",
       "      <td>65.0</td>\n",
       "      <td>Female</td>\n",
       "    </tr>\n",
       "  </tbody>\n",
       "</table>\n",
       "</div>"
      ],
      "text/plain": [
       "         Name         Party  Province   Age  Gender\n",
       "9  Smith, Joy  Conservative  Manitoba  65.0  Female"
      ]
     },
     "execution_count": 28,
     "metadata": {},
     "output_type": "execute_result"
    }
   ],
   "source": [
    "df[df.Name.str.startswith('Smith')]"
   ]
  },
  {
   "cell_type": "code",
   "execution_count": 29,
   "metadata": {
    "ExecuteTime": {
     "end_time": "2018-11-28T20:25:43.710305Z",
     "start_time": "2018-11-28T20:25:43.704075Z"
    }
   },
   "outputs": [],
   "source": [
    "df[['last-name','first-name']] = df.Name.str.split(',',expand=True)"
   ]
  },
  {
   "cell_type": "code",
   "execution_count": 30,
   "metadata": {
    "ExecuteTime": {
     "end_time": "2018-11-28T20:25:44.119487Z",
     "start_time": "2018-11-28T20:25:44.103899Z"
    }
   },
   "outputs": [
    {
     "data": {
      "text/html": [
       "<div>\n",
       "<style scoped>\n",
       "    .dataframe tbody tr th:only-of-type {\n",
       "        vertical-align: middle;\n",
       "    }\n",
       "\n",
       "    .dataframe tbody tr th {\n",
       "        vertical-align: top;\n",
       "    }\n",
       "\n",
       "    .dataframe thead th {\n",
       "        text-align: right;\n",
       "    }\n",
       "</style>\n",
       "<table border=\"1\" class=\"dataframe\">\n",
       "  <thead>\n",
       "    <tr style=\"text-align: right;\">\n",
       "      <th></th>\n",
       "      <th>Name</th>\n",
       "      <th>Party</th>\n",
       "      <th>Province</th>\n",
       "      <th>Age</th>\n",
       "      <th>Gender</th>\n",
       "      <th>last-name</th>\n",
       "      <th>first-name</th>\n",
       "    </tr>\n",
       "  </thead>\n",
       "  <tbody>\n",
       "    <tr>\n",
       "      <th>0</th>\n",
       "      <td>Liu, Laurin</td>\n",
       "      <td>NDP</td>\n",
       "      <td>Quebec</td>\n",
       "      <td>22.0</td>\n",
       "      <td>Female</td>\n",
       "      <td>Liu</td>\n",
       "      <td>Laurin</td>\n",
       "    </tr>\n",
       "    <tr>\n",
       "      <th>1</th>\n",
       "      <td>Mourani, Maria</td>\n",
       "      <td>Bloc Quebecois</td>\n",
       "      <td>Quebec</td>\n",
       "      <td>43.0</td>\n",
       "      <td>Female</td>\n",
       "      <td>Mourani</td>\n",
       "      <td>Maria</td>\n",
       "    </tr>\n",
       "    <tr>\n",
       "      <th>2</th>\n",
       "      <td>Sellah, Djaouida</td>\n",
       "      <td>NDP</td>\n",
       "      <td>Quebec</td>\n",
       "      <td>NaN</td>\n",
       "      <td>Female</td>\n",
       "      <td>Sellah</td>\n",
       "      <td>Djaouida</td>\n",
       "    </tr>\n",
       "    <tr>\n",
       "      <th>3</th>\n",
       "      <td>St-Denis, Lise</td>\n",
       "      <td>NDP</td>\n",
       "      <td>Quebec</td>\n",
       "      <td>72.0</td>\n",
       "      <td>Female</td>\n",
       "      <td>St-Denis</td>\n",
       "      <td>Lise</td>\n",
       "    </tr>\n",
       "    <tr>\n",
       "      <th>4</th>\n",
       "      <td>Fry, Hedy</td>\n",
       "      <td>Liberal</td>\n",
       "      <td>British Columbia</td>\n",
       "      <td>71.0</td>\n",
       "      <td>Female</td>\n",
       "      <td>Fry</td>\n",
       "      <td>Hedy</td>\n",
       "    </tr>\n",
       "  </tbody>\n",
       "</table>\n",
       "</div>"
      ],
      "text/plain": [
       "               Name           Party          Province   Age  Gender last-name  \\\n",
       "0       Liu, Laurin             NDP            Quebec  22.0  Female       Liu   \n",
       "1    Mourani, Maria  Bloc Quebecois            Quebec  43.0  Female   Mourani   \n",
       "2  Sellah, Djaouida             NDP            Quebec   NaN  Female    Sellah   \n",
       "3    St-Denis, Lise             NDP            Quebec  72.0  Female  St-Denis   \n",
       "4         Fry, Hedy         Liberal  British Columbia  71.0  Female       Fry   \n",
       "\n",
       "  first-name  \n",
       "0     Laurin  \n",
       "1      Maria  \n",
       "2   Djaouida  \n",
       "3       Lise  \n",
       "4       Hedy  "
      ]
     },
     "execution_count": 30,
     "metadata": {},
     "output_type": "execute_result"
    }
   ],
   "source": [
    "df.head()"
   ]
  },
  {
   "cell_type": "code",
   "execution_count": 31,
   "metadata": {
    "ExecuteTime": {
     "end_time": "2018-11-28T20:25:45.206467Z",
     "start_time": "2018-11-28T20:25:45.172940Z"
    }
   },
   "outputs": [
    {
     "data": {
      "text/html": [
       "<div>\n",
       "<style scoped>\n",
       "    .dataframe tbody tr th:only-of-type {\n",
       "        vertical-align: middle;\n",
       "    }\n",
       "\n",
       "    .dataframe tbody tr th {\n",
       "        vertical-align: top;\n",
       "    }\n",
       "\n",
       "    .dataframe thead th {\n",
       "        text-align: right;\n",
       "    }\n",
       "</style>\n",
       "<table border=\"1\" class=\"dataframe\">\n",
       "  <thead>\n",
       "    <tr style=\"text-align: right;\">\n",
       "      <th></th>\n",
       "      <th>Name</th>\n",
       "      <th>Party</th>\n",
       "      <th>Province</th>\n",
       "      <th>Age</th>\n",
       "      <th>Gender</th>\n",
       "      <th>last-name</th>\n",
       "      <th>first-name</th>\n",
       "    </tr>\n",
       "  </thead>\n",
       "  <tbody>\n",
       "    <tr>\n",
       "      <th>count</th>\n",
       "      <td>308</td>\n",
       "      <td>308</td>\n",
       "      <td>308</td>\n",
       "      <td>305.000000</td>\n",
       "      <td>308</td>\n",
       "      <td>308</td>\n",
       "      <td>308</td>\n",
       "    </tr>\n",
       "    <tr>\n",
       "      <th>unique</th>\n",
       "      <td>308</td>\n",
       "      <td>5</td>\n",
       "      <td>11</td>\n",
       "      <td>NaN</td>\n",
       "      <td>2</td>\n",
       "      <td>292</td>\n",
       "      <td>221</td>\n",
       "    </tr>\n",
       "    <tr>\n",
       "      <th>top</th>\n",
       "      <td>Raynault, Francine</td>\n",
       "      <td>Conservative</td>\n",
       "      <td>Ontario</td>\n",
       "      <td>NaN</td>\n",
       "      <td>Male</td>\n",
       "      <td>Morin</td>\n",
       "      <td>John</td>\n",
       "    </tr>\n",
       "    <tr>\n",
       "      <th>freq</th>\n",
       "      <td>1</td>\n",
       "      <td>166</td>\n",
       "      <td>106</td>\n",
       "      <td>NaN</td>\n",
       "      <td>233</td>\n",
       "      <td>4</td>\n",
       "      <td>8</td>\n",
       "    </tr>\n",
       "    <tr>\n",
       "      <th>mean</th>\n",
       "      <td>NaN</td>\n",
       "      <td>NaN</td>\n",
       "      <td>NaN</td>\n",
       "      <td>51.157377</td>\n",
       "      <td>NaN</td>\n",
       "      <td>NaN</td>\n",
       "      <td>NaN</td>\n",
       "    </tr>\n",
       "    <tr>\n",
       "      <th>std</th>\n",
       "      <td>NaN</td>\n",
       "      <td>NaN</td>\n",
       "      <td>NaN</td>\n",
       "      <td>11.318715</td>\n",
       "      <td>NaN</td>\n",
       "      <td>NaN</td>\n",
       "      <td>NaN</td>\n",
       "    </tr>\n",
       "    <tr>\n",
       "      <th>min</th>\n",
       "      <td>NaN</td>\n",
       "      <td>NaN</td>\n",
       "      <td>NaN</td>\n",
       "      <td>21.000000</td>\n",
       "      <td>NaN</td>\n",
       "      <td>NaN</td>\n",
       "      <td>NaN</td>\n",
       "    </tr>\n",
       "    <tr>\n",
       "      <th>25%</th>\n",
       "      <td>NaN</td>\n",
       "      <td>NaN</td>\n",
       "      <td>NaN</td>\n",
       "      <td>44.000000</td>\n",
       "      <td>NaN</td>\n",
       "      <td>NaN</td>\n",
       "      <td>NaN</td>\n",
       "    </tr>\n",
       "    <tr>\n",
       "      <th>50%</th>\n",
       "      <td>NaN</td>\n",
       "      <td>NaN</td>\n",
       "      <td>NaN</td>\n",
       "      <td>52.000000</td>\n",
       "      <td>NaN</td>\n",
       "      <td>NaN</td>\n",
       "      <td>NaN</td>\n",
       "    </tr>\n",
       "    <tr>\n",
       "      <th>75%</th>\n",
       "      <td>NaN</td>\n",
       "      <td>NaN</td>\n",
       "      <td>NaN</td>\n",
       "      <td>60.000000</td>\n",
       "      <td>NaN</td>\n",
       "      <td>NaN</td>\n",
       "      <td>NaN</td>\n",
       "    </tr>\n",
       "    <tr>\n",
       "      <th>max</th>\n",
       "      <td>NaN</td>\n",
       "      <td>NaN</td>\n",
       "      <td>NaN</td>\n",
       "      <td>75.000000</td>\n",
       "      <td>NaN</td>\n",
       "      <td>NaN</td>\n",
       "      <td>NaN</td>\n",
       "    </tr>\n",
       "  </tbody>\n",
       "</table>\n",
       "</div>"
      ],
      "text/plain": [
       "                      Name         Party Province         Age Gender  \\\n",
       "count                  308           308      308  305.000000    308   \n",
       "unique                 308             5       11         NaN      2   \n",
       "top     Raynault, Francine  Conservative  Ontario         NaN   Male   \n",
       "freq                     1           166      106         NaN    233   \n",
       "mean                   NaN           NaN      NaN   51.157377    NaN   \n",
       "std                    NaN           NaN      NaN   11.318715    NaN   \n",
       "min                    NaN           NaN      NaN   21.000000    NaN   \n",
       "25%                    NaN           NaN      NaN   44.000000    NaN   \n",
       "50%                    NaN           NaN      NaN   52.000000    NaN   \n",
       "75%                    NaN           NaN      NaN   60.000000    NaN   \n",
       "max                    NaN           NaN      NaN   75.000000    NaN   \n",
       "\n",
       "       last-name first-name  \n",
       "count        308        308  \n",
       "unique       292        221  \n",
       "top        Morin       John  \n",
       "freq           4          8  \n",
       "mean         NaN        NaN  \n",
       "std          NaN        NaN  \n",
       "min          NaN        NaN  \n",
       "25%          NaN        NaN  \n",
       "50%          NaN        NaN  \n",
       "75%          NaN        NaN  \n",
       "max          NaN        NaN  "
      ]
     },
     "execution_count": 31,
     "metadata": {},
     "output_type": "execute_result"
    }
   ],
   "source": [
    "df.describe(include='all')"
   ]
  },
  {
   "cell_type": "code",
   "execution_count": 32,
   "metadata": {
    "ExecuteTime": {
     "end_time": "2018-11-28T20:25:57.903992Z",
     "start_time": "2018-11-28T20:25:57.897252Z"
    }
   },
   "outputs": [
    {
     "data": {
      "text/plain": [
       "Conservative      166\n",
       "NDP               103\n",
       "Liberal            34\n",
       "Bloc Quebecois      4\n",
       "Green               1\n",
       "Name: Party, dtype: int64"
      ]
     },
     "execution_count": 32,
     "metadata": {},
     "output_type": "execute_result"
    }
   ],
   "source": [
    "df.Party.value_counts()"
   ]
  },
  {
   "cell_type": "code",
   "execution_count": 35,
   "metadata": {
    "ExecuteTime": {
     "end_time": "2018-11-28T20:26:34.053796Z",
     "start_time": "2018-11-28T20:26:33.888760Z"
    }
   },
   "outputs": [
    {
     "data": {
      "text/plain": [
       "<matplotlib.axes._subplots.AxesSubplot at 0x126e6a240>"
      ]
     },
     "execution_count": 35,
     "metadata": {},
     "output_type": "execute_result"
    },
    {
     "data": {
      "image/png": "[encoded data removed]",
      "text/plain": [
       "<Figure size 432x288 with 1 Axes>"
      ]
     },
     "metadata": {
      "needs_background": "light"
     },
     "output_type": "display_data"
    }
   ],
   "source": [
    "df.Gender.value_counts().plot('bar')"
   ]
  },
  {
   "cell_type": "markdown",
   "metadata": {},
   "source": [
    "## Plots"
   ]
  },
  {
   "cell_type": "code",
   "execution_count": 36,
   "metadata": {
    "ExecuteTime": {
     "end_time": "2018-11-28T20:27:19.528357Z",
     "start_time": "2018-11-28T20:27:19.357579Z"
    }
   },
   "outputs": [
    {
     "data": {
      "text/plain": [
       "<matplotlib.axes._subplots.AxesSubplot at 0x12901b668>"
      ]
     },
     "execution_count": 36,
     "metadata": {},
     "output_type": "execute_result"
    },
    {
     "data": {
      "image/png": "[encoded data removed]",
      "text/plain": [
       "<Figure size 432x288 with 1 Axes>"
      ]
     },
     "metadata": {
      "needs_background": "light"
     },
     "output_type": "display_data"
    }
   ],
   "source": [
    "df.Gender.value_counts().plot('bar')"
   ]
  },
  {
   "cell_type": "code",
   "execution_count": 37,
   "metadata": {
    "ExecuteTime": {
     "end_time": "2018-11-28T20:27:23.067127Z",
     "start_time": "2018-11-28T20:27:22.832091Z"
    }
   },
   "outputs": [
    {
     "data": {
      "text/plain": [
       "<matplotlib.axes._subplots.AxesSubplot at 0x1290bfb70>"
      ]
     },
     "execution_count": 37,
     "metadata": {},
     "output_type": "execute_result"
    },
    {
     "data": {
      "image/png": "[encoded data removed]",
      "text/plain": [
       "<Figure size 432x288 with 1 Axes>"
      ]
     },
     "metadata": {
      "needs_background": "light"
     },
     "output_type": "display_data"
    }
   ],
   "source": [
    "df.Age.plot('hist')"
   ]
  },
  {
   "cell_type": "code",
   "execution_count": 38,
   "metadata": {
    "ExecuteTime": {
     "end_time": "2018-11-28T20:27:27.174823Z",
     "start_time": "2018-11-28T20:27:26.911454Z"
    }
   },
   "outputs": [
    {
     "data": {
      "text/plain": [
       "<matplotlib.axes._subplots.AxesSubplot at 0x129199400>"
      ]
     },
     "execution_count": 38,
     "metadata": {},
     "output_type": "execute_result"
    },
    {
     "data": {
      "image/png": "[encoded data removed]",
      "text/plain": [
       "<Figure size 432x288 with 1 Axes>"
      ]
     },
     "metadata": {
      "needs_background": "light"
     },
     "output_type": "display_data"
    }
   ],
   "source": [
    "df[df.Gender=='Male'].Age.plot('hist')\n",
    "df[df.Gender=='Female'].Age.plot('hist')"
   ]
  },
  {
   "cell_type": "code",
   "execution_count": 40,
   "metadata": {
    "ExecuteTime": {
     "end_time": "2018-11-28T20:27:54.421543Z",
     "start_time": "2018-11-28T20:27:54.179856Z"
    }
   },
   "outputs": [
    {
     "data": {
      "text/plain": [
       "Text(0, 0.5, 'this is the y axis')"
      ]
     },
     "execution_count": 40,
     "metadata": {},
     "output_type": "execute_result"
    },
    {
     "data": {
      "image/png": "[encoded data removed]",
      "text/plain": [
       "<Figure size 432x288 with 1 Axes>"
      ]
     },
     "metadata": {
      "needs_background": "light"
     },
     "output_type": "display_data"
    }
   ],
   "source": [
    "# matplotlib\n",
    "x = np.linspace(0,2*np.pi,100)\n",
    "plt.plot(x,np.sin(x))\n",
    "plt.title('Matplotlib plot')\n",
    "plt.text(0,-.75, \"Super customizable!\", fontsize=16)\n",
    "plt.ylabel('this is the y axis')"
   ]
  },
  {
   "cell_type": "markdown",
   "metadata": {},
   "source": [
    "## Interactive Plots (widgets + ipyvolume)\n",
    "other options:\n",
    "* bokeh\n",
    "* mpld3\n",
    "* plot.ly\n",
    "* pivottable.js"
   ]
  },
  {
   "cell_type": "code",
   "execution_count": 41,
   "metadata": {
    "ExecuteTime": {
     "end_time": "2018-11-28T20:28:05.752614Z",
     "start_time": "2018-11-28T20:28:05.749645Z"
    }
   },
   "outputs": [],
   "source": [
    "import ipywidgets as widgets"
   ]
  },
  {
   "cell_type": "code",
   "execution_count": 42,
   "metadata": {
    "ExecuteTime": {
     "end_time": "2018-11-28T20:28:08.020516Z",
     "start_time": "2018-11-28T20:28:07.773377Z"
    }
   },
   "outputs": [
    {
     "data": {
      "application/vnd.jupyter.widget-view+json": {
       "model_id": "98b6bcc6e3614b569ef6f7e22070b774",
       "version_major": 2,
       "version_minor": 0
      },
      "text/plain": [
       "interactive(children=(FloatSlider(value=7.5, description='freq', max=10.0, min=1.0, step=0.5), Output()), _dom…"
      ]
     },
     "metadata": {},
     "output_type": "display_data"
    },
    {
     "data": {
      "text/plain": [
       "<function __main__.plot_func(freq)>"
      ]
     },
     "execution_count": 42,
     "metadata": {},
     "output_type": "execute_result"
    }
   ],
   "source": [
    "from IPython.display import display\n",
    "from ipywidgets import interact, interactive, fixed, interact_manual\n",
    "import ipywidgets as widgets\n",
    "\n",
    "\n",
    "def plot_func(freq):\n",
    "    x = np.linspace(0, 2*np.pi, 200)\n",
    "    y = np.sin(x * freq)\n",
    "    plt.plot(x, y)\n",
    "\n",
    "interact(plot_func, freq = widgets.FloatSlider(value=7.5,\n",
    "                                               min=1,\n",
    "                                               max=10.0,\n",
    "                                               step=0.5))"
   ]
  },
  {
   "cell_type": "code",
   "execution_count": 43,
   "metadata": {
    "ExecuteTime": {
     "end_time": "2018-11-28T20:28:32.054445Z",
     "start_time": "2018-11-28T20:28:31.636449Z"
    }
   },
   "outputs": [],
   "source": [
    "import ipyvolume as ipv"
   ]
  },
  {
   "cell_type": "code",
   "execution_count": 61,
   "metadata": {
    "ExecuteTime": {
     "end_time": "2018-11-28T20:30:03.576916Z",
     "start_time": "2018-11-28T20:30:03.573948Z"
    }
   },
   "outputs": [],
   "source": [
    "N = 1000\n",
    "x, y, z = np.random.normal(loc=0, scale=1, size=(3, N))"
   ]
  },
  {
   "cell_type": "code",
   "execution_count": 62,
   "metadata": {
    "ExecuteTime": {
     "end_time": "2018-11-28T20:30:04.195764Z",
     "start_time": "2018-11-28T20:30:04.131747Z"
    },
    "scrolled": true
   },
   "outputs": [
    {
     "data": {
      "application/vnd.jupyter.widget-view+json": {
       "model_id": "ff05e743499043d7aece0091bde4549c",
       "version_major": 2,
       "version_minor": 0
      },
      "text/plain": [
       "VBox(children=(Figure(camera=PerspectiveCamera(fov=46.0, position=(0.0, 0.0, 2.0), quaternion=(0.0, 0.0, 0.0, …"
      ]
     },
     "metadata": {},
     "output_type": "display_data"
    }
   ],
   "source": [
    "fig = ipv.figure()\n",
    "scatter = ipv.scatter(x, y, z, marker='box')\n",
    "ipv.show()"
   ]
  },
  {
   "cell_type": "code",
   "execution_count": 63,
   "metadata": {
    "ExecuteTime": {
     "end_time": "2018-11-28T20:30:05.337177Z",
     "start_time": "2018-11-28T20:30:05.334300Z"
    }
   },
   "outputs": [],
   "source": [
    "scatter.x = scatter.x + 0.5"
   ]
  },
  {
   "cell_type": "code",
   "execution_count": 64,
   "metadata": {
    "ExecuteTime": {
     "end_time": "2018-11-28T20:30:05.662662Z",
     "start_time": "2018-11-28T20:30:05.659479Z"
    }
   },
   "outputs": [],
   "source": [
    "scatter.x = x - .25"
   ]
  },
  {
   "cell_type": "code",
   "execution_count": 65,
   "metadata": {
    "ExecuteTime": {
     "end_time": "2018-11-28T20:30:05.932121Z",
     "start_time": "2018-11-28T20:30:05.927953Z"
    }
   },
   "outputs": [],
   "source": [
    "scatter.color = \"green\"\n",
    "scatter.size = 5"
   ]
  },
  {
   "cell_type": "code",
   "execution_count": 66,
   "metadata": {
    "ExecuteTime": {
     "end_time": "2018-11-28T20:30:06.166820Z",
     "start_time": "2018-11-28T20:30:06.162592Z"
    }
   },
   "outputs": [],
   "source": [
    "scatter.color = np.random.random((N,3))"
   ]
  },
  {
   "cell_type": "code",
   "execution_count": 67,
   "metadata": {
    "ExecuteTime": {
     "end_time": "2018-11-28T20:30:06.646769Z",
     "start_time": "2018-11-28T20:30:06.643277Z"
    }
   },
   "outputs": [],
   "source": [
    "scatter.geo = \"cat\""
   ]
  },
  {
   "cell_type": "markdown",
   "metadata": {},
   "source": [
    "# External Data Input\n",
    "lots of ways to ingest data into jupyter notebooks\n",
    "* de-serialize\n",
    " - pickle\n",
    " - dill.load()\n",
    "* pandas loading\n",
    " - pd.read_csv()\n",
    " - pd.read_excel()"
   ]
  },
  {
   "cell_type": "markdown",
   "metadata": {},
   "source": [
    "## ipython magics (!, %, %%)\n",
    "\n",
    "! - gives access to bash shell\n",
    "% runs inline \"magic\"\n",
    "%% runs whole-cell \"magic\"\n",
    "\n",
    "Can run other codes in same notebook\n",
    "* %%bash\n",
    "* %%HTML\n",
    "* %%python2\n",
    "* %%python3\n",
    "* %%ruby\n",
    "* %%perl\n",
    "* %%fortran"
   ]
  },
  {
   "cell_type": "code",
   "execution_count": 68,
   "metadata": {
    "ExecuteTime": {
     "end_time": "2018-11-28T20:32:01.514754Z",
     "start_time": "2018-11-28T20:31:52.330376Z"
    }
   },
   "outputs": [
    {
     "name": "stdout",
     "output_type": "stream",
     "text": [
      "PING google.com (216.58.195.78): 56 data bytes\n",
      "64 bytes from 216.58.195.78: icmp_seq=0 ttl=42 time=10.628 ms\n",
      "64 bytes from 216.58.195.78: icmp_seq=1 ttl=42 time=12.682 ms\n",
      "64 bytes from 216.58.195.78: icmp_seq=2 ttl=42 time=15.873 ms\n",
      "64 bytes from 216.58.195.78: icmp_seq=3 ttl=42 time=13.328 ms\n",
      "64 bytes from 216.58.195.78: icmp_seq=4 ttl=42 time=12.130 ms\n",
      "64 bytes from 216.58.195.78: icmp_seq=5 ttl=42 time=14.314 ms\n",
      "64 bytes from 216.58.195.78: icmp_seq=6 ttl=42 time=12.556 ms\n",
      "64 bytes from 216.58.195.78: icmp_seq=7 ttl=42 time=15.730 ms\n",
      "64 bytes from 216.58.195.78: icmp_seq=8 ttl=42 time=19.645 ms\n",
      "^C\n",
      "\n",
      "--- google.com ping statistics ---\n",
      "9 packets transmitted, 9 packets received, 0.0% packet loss\n",
      "round-trip min/avg/max/stddev = 10.628/14.098/19.645/2.528 ms\n"
     ]
    }
   ],
   "source": [
    "!ping google.com"
   ]
  },
  {
   "cell_type": "code",
   "execution_count": 69,
   "metadata": {
    "ExecuteTime": {
     "end_time": "2018-11-28T20:32:08.954756Z",
     "start_time": "2018-11-28T20:32:08.539246Z"
    }
   },
   "outputs": [],
   "source": [
    "!subl ./test.md"
   ]
  },
  {
   "cell_type": "code",
   "execution_count": 70,
   "metadata": {
    "ExecuteTime": {
     "end_time": "2018-11-28T20:33:02.892410Z",
     "start_time": "2018-11-28T20:33:02.890145Z"
    }
   },
   "outputs": [],
   "source": [
    "import inspect"
   ]
  },
  {
   "cell_type": "code",
   "execution_count": 71,
   "metadata": {
    "ExecuteTime": {
     "end_time": "2018-11-28T20:33:12.151800Z",
     "start_time": "2018-11-28T20:33:12.147997Z"
    }
   },
   "outputs": [
    {
     "data": {
      "text/plain": [
       "'/Users/nknezek/.pyenv/versions/3.6.5/lib/python3.6/site-packages/numpy/core/function_base.py'"
      ]
     },
     "execution_count": 71,
     "metadata": {},
     "output_type": "execute_result"
    }
   ],
   "source": [
    "inspect.getsourcefile(np.linspace)"
   ]
  },
  {
   "cell_type": "code",
   "execution_count": 72,
   "metadata": {
    "ExecuteTime": {
     "end_time": "2018-11-28T20:33:20.534440Z",
     "start_time": "2018-11-28T20:33:20.354284Z"
    }
   },
   "outputs": [],
   "source": [
    "!subl {inspect.getsourcefile(np.linspace)}"
   ]
  },
  {
   "cell_type": "code",
   "execution_count": 73,
   "metadata": {
    "ExecuteTime": {
     "end_time": "2018-11-28T20:33:52.384943Z",
     "start_time": "2018-11-28T20:33:52.260740Z"
    }
   },
   "outputs": [
    {
     "name": "stdout",
     "output_type": "stream",
     "text": [
      "Can you believe you can pass variables and strings like this?\r\n"
     ]
    }
   ],
   "source": [
    "this_is_magic = \"Can you believe you can pass variables and strings like this?\"\n",
    "!echo $this_is_magic"
   ]
  },
  {
   "cell_type": "code",
   "execution_count": 74,
   "metadata": {
    "ExecuteTime": {
     "end_time": "2018-11-28T20:33:54.739126Z",
     "start_time": "2018-11-28T20:33:54.732991Z"
    }
   },
   "outputs": [
    {
     "data": {
      "text/plain": [
       "{'TERM_PROGRAM': 'iTerm.app',\n",
       " 'PYENV_ROOT': '/Users/nknezek/.pyenv',\n",
       " 'PIPENV_PYTHON': '/Users/nknezek/.pyenv/shims/python',\n",
       " 'SHELL': '/bin/bash',\n",
       " 'TERM': 'xterm-color',\n",
       " 'TMPDIR': '/var/folders/ly/3vh2wjg95jb5mbhlwvxrp5km0000gn/T/',\n",
       " 'PYTHON_PATH': '/Users/nknezek/.pyenv/shims/python',\n",
       " 'Apple_PubSub_Socket_Render': '/private/tmp/com.apple.launchd.uW9Fkdq68l/Render',\n",
       " 'TERM_PROGRAM_VERSION': '3.2.6',\n",
       " 'TERM_SESSION_ID': 'w0t0p0:B7A171E1-55DD-4999-B449-875874433DBD',\n",
       " 'PYENV_VERSION': '3.6.5',\n",
       " 'USER': 'nknezek',\n",
       " 'SSH_AUTH_SOCK': '/private/tmp/com.apple.launchd.KEinCzESba/Listeners',\n",
       " 'PYENV_DIR': '/Users/nknezek',\n",
       " '__CF_USER_TEXT_ENCODING': '0x1F5:0x0:0x0',\n",
       " 'PATH': '/Users/nknezek/.pyenv/versions/3.6.5/bin:/Users/nknezek/.pyenv/versions/3.6.5/bin:/usr/local/Cellar/pyenv/1.2.7/libexec:/Users/nknezek/.jenv/shims:/Users/nknezek/.pyenv/shims:/usr/local/bin:/usr/bin:/bin:/usr/sbin:/sbin',\n",
       " 'PWD': '/Users/nknezek',\n",
       " 'JENV_LOADED': '1',\n",
       " 'LANG': 'en_US.UTF-8',\n",
       " 'ITERM_PROFILE': 'Default',\n",
       " 'PYENV_HOOK_PATH': '/Users/nknezek/.pyenv/pyenv.d:/usr/local/Cellar/pyenv/1.2.7/pyenv.d:/usr/local/etc/pyenv.d:/etc/pyenv.d:/usr/lib/pyenv/hooks',\n",
       " 'XPC_FLAGS': '0x0',\n",
       " 'XPC_SERVICE_NAME': '0',\n",
       " 'COLORFGBG': '7;0',\n",
       " 'HOME': '/Users/nknezek',\n",
       " 'SHLVL': '1',\n",
       " 'PYENV_SHELL': 'bash',\n",
       " 'ITERM_SESSION_ID': 'w0t0p0:B7A171E1-55DD-4999-B449-875874433DBD',\n",
       " 'LOGNAME': 'nknezek',\n",
       " 'COLORTERM': 'truecolor',\n",
       " 'JPY_PARENT_PID': '1716',\n",
       " 'CLICOLOR': '1',\n",
       " 'PAGER': 'cat',\n",
       " 'GIT_PAGER': 'cat',\n",
       " 'MPLBACKEND': 'module://ipykernel.pylab.backend_inline'}"
      ]
     },
     "execution_count": 74,
     "metadata": {},
     "output_type": "execute_result"
    }
   ],
   "source": [
    "%env"
   ]
  },
  {
   "cell_type": "markdown",
   "metadata": {},
   "source": [
    "## SQL"
   ]
  },
  {
   "cell_type": "code",
   "execution_count": 75,
   "metadata": {
    "ExecuteTime": {
     "end_time": "2018-11-28T20:34:20.143064Z",
     "start_time": "2018-11-28T20:34:19.872962Z"
    }
   },
   "outputs": [
    {
     "name": "stderr",
     "output_type": "stream",
     "text": [
      "/Users/nknezek/.pyenv/versions/3.6.5/lib/python3.6/site-packages/psycopg2/__init__.py:144: UserWarning: The psycopg2 wheel package will be renamed from release 2.8; in order to keep installing from binary please use \"pip install psycopg2-binary\" instead. For details see: <http://initd.org/psycopg/docs/install.html#binary-install-from-pypi>.\n",
      "  \"\"\")\n"
     ]
    },
    {
     "data": {
      "application/javascript": [
       "\n",
       "    require(['notebook/js/codecell'], function(codecell) {\n",
       "      // https://github.com/jupyter/notebook/issues/2453\n",
       "      codecell.CodeCell.options_default.highlight_modes['magic_text/x-sql'] = {'reg':[/^%read_sql/, /.*=\\s*%read_sql/,\n",
       "                                                                                      /^%%read_sql/]};\n",
       "      Jupyter.notebook.events.one('kernel_ready.Kernel', function(){\n",
       "          console.log('BBBBB');\n",
       "          Jupyter.notebook.get_cells().map(function(cell){\n",
       "              if (cell.cell_type == 'code'){ cell.auto_highlight(); } }) ;\n",
       "      });\n",
       "    });\n",
       "    "
      ]
     },
     "metadata": {},
     "output_type": "display_data"
    }
   ],
   "source": [
    "%load_ext sql_magic"
   ]
  },
  {
   "cell_type": "code",
   "execution_count": 76,
   "metadata": {
    "ExecuteTime": {
     "end_time": "2018-11-28T20:34:21.305582Z",
     "start_time": "2018-11-28T20:34:21.292770Z"
    }
   },
   "outputs": [],
   "source": [
    "import sqlalchemy\n",
    "import pandas as pd\n",
    "import sqlite3\n",
    "from sqlalchemy import create_engine\n",
    "sqlite_engine = create_engine('sqlite://')"
   ]
  },
  {
   "cell_type": "code",
   "execution_count": 77,
   "metadata": {
    "ExecuteTime": {
     "end_time": "2018-11-28T20:34:23.295007Z",
     "start_time": "2018-11-28T20:34:23.283994Z"
    }
   },
   "outputs": [],
   "source": [
    "%config SQL.conn_name = \"sqlite_engine\""
   ]
  },
  {
   "cell_type": "code",
   "execution_count": 78,
   "metadata": {
    "ExecuteTime": {
     "end_time": "2018-11-28T20:34:24.054263Z",
     "start_time": "2018-11-28T20:34:24.046246Z"
    }
   },
   "outputs": [
    {
     "name": "stdout",
     "output_type": "stream",
     "text": [
      "SQL options\n",
      "---------\n",
      "SQL.conn_name=<Unicode>\n",
      "    Current: 'sqlite_engine'\n",
      "    Object name for accessing computing resource environment\n",
      "SQL.notify_result=<Bool>\n",
      "    Current: True\n",
      "    Notify query result to stdout\n",
      "SQL.output_result=<Bool>\n",
      "    Current: True\n",
      "    Output query result to stdout\n"
     ]
    }
   ],
   "source": [
    "%config SQL"
   ]
  },
  {
   "cell_type": "code",
   "execution_count": 79,
   "metadata": {
    "ExecuteTime": {
     "end_time": "2018-11-28T20:34:29.555731Z",
     "start_time": "2018-11-28T20:34:29.544960Z"
    }
   },
   "outputs": [],
   "source": [
    "%config SQL.output_result = False"
   ]
  },
  {
   "cell_type": "markdown",
   "metadata": {},
   "source": [
    "```SQL\n",
    "CREATE TABLE presidents (first_name, last_name, year_of_birth);\n",
    "INSERT INTO presidents VALUES ('George', 'Washington', 1732);\n",
    "INSERT INTO presidents VALUES ('John', 'Adams', 1735);\n",
    "INSERT INTO presidents VALUES ('Thomas', 'Jefferson', 1743);\n",
    "INSERT INTO presidents VALUES ('James', 'Madison', 1751);\n",
    "INSERT INTO presidents VALUES ('James', 'Monroe', 1758);\n",
    "INSERT INTO presidents VALUES ('Zachary', 'Taylor', 1784);\n",
    "INSERT INTO presidents VALUES ('Abraham', 'Lincoln', 1809);\n",
    "INSERT INTO presidents VALUES ('Theodore', 'Roosevelt', 1858);\n",
    "INSERT INTO presidents VALUES ('Richard', 'Nixon', 1913);\n",
    "INSERT INTO presidents VALUES ('Barack', 'Obama', 1961);\n",
    "```"
   ]
  },
  {
   "cell_type": "code",
   "execution_count": 80,
   "metadata": {
    "ExecuteTime": {
     "end_time": "2018-11-28T20:34:31.344090Z",
     "start_time": "2018-11-28T20:34:31.282056Z"
    }
   },
   "outputs": [
    {
     "name": "stdout",
     "output_type": "stream",
     "text": [
      "Query started at 12:34:31 PM PST; Query executed in 0.00 m"
     ]
    }
   ],
   "source": [
    "%%read_sql temp\n",
    "CREATE TABLE presidents (first_name, last_name, year_of_birth);\n",
    "INSERT INTO presidents VALUES ('George', 'Washington', 1732);\n",
    "INSERT INTO presidents VALUES ('John', 'Adams', 1735);\n",
    "INSERT INTO presidents VALUES ('Thomas', 'Jefferson', 1743);\n",
    "INSERT INTO presidents VALUES ('James', 'Madison', 1751);\n",
    "INSERT INTO presidents VALUES ('James', 'Monroe', 1758);\n",
    "INSERT INTO presidents VALUES ('Zachary', 'Taylor', 1784);\n",
    "INSERT INTO presidents VALUES ('Abraham', 'Lincoln', 1809);\n",
    "INSERT INTO presidents VALUES ('Theodore', 'Roosevelt', 1858);\n",
    "INSERT INTO presidents VALUES ('Richard', 'Nixon', 1913);\n",
    "INSERT INTO presidents VALUES ('Barack', 'Obama', 1961);"
   ]
  },
  {
   "cell_type": "code",
   "execution_count": 81,
   "metadata": {
    "ExecuteTime": {
     "end_time": "2018-11-28T20:34:32.175955Z",
     "start_time": "2018-11-28T20:34:32.164375Z"
    }
   },
   "outputs": [
    {
     "name": "stdout",
     "output_type": "stream",
     "text": [
      "Query started at 12:34:32 PM PST; Query executed in 0.00 m"
     ]
    }
   ],
   "source": [
    "%%read_sql df\n",
    "SELECT * FROM presidents"
   ]
  },
  {
   "cell_type": "code",
   "execution_count": 84,
   "metadata": {
    "ExecuteTime": {
     "end_time": "2018-11-28T20:39:24.207323Z",
     "start_time": "2018-11-28T20:39:24.199100Z"
    }
   },
   "outputs": [
    {
     "data": {
      "text/html": [
       "<div>\n",
       "<style scoped>\n",
       "    .dataframe tbody tr th:only-of-type {\n",
       "        vertical-align: middle;\n",
       "    }\n",
       "\n",
       "    .dataframe tbody tr th {\n",
       "        vertical-align: top;\n",
       "    }\n",
       "\n",
       "    .dataframe thead th {\n",
       "        text-align: right;\n",
       "    }\n",
       "</style>\n",
       "<table border=\"1\" class=\"dataframe\">\n",
       "  <thead>\n",
       "    <tr style=\"text-align: right;\">\n",
       "      <th></th>\n",
       "      <th>first_name</th>\n",
       "      <th>last_name</th>\n",
       "      <th>year_of_birth</th>\n",
       "    </tr>\n",
       "  </thead>\n",
       "  <tbody>\n",
       "    <tr>\n",
       "      <th>0</th>\n",
       "      <td>George</td>\n",
       "      <td>Washington</td>\n",
       "      <td>1732</td>\n",
       "    </tr>\n",
       "    <tr>\n",
       "      <th>1</th>\n",
       "      <td>John</td>\n",
       "      <td>Adams</td>\n",
       "      <td>1735</td>\n",
       "    </tr>\n",
       "    <tr>\n",
       "      <th>2</th>\n",
       "      <td>Thomas</td>\n",
       "      <td>Jefferson</td>\n",
       "      <td>1743</td>\n",
       "    </tr>\n",
       "    <tr>\n",
       "      <th>3</th>\n",
       "      <td>James</td>\n",
       "      <td>Madison</td>\n",
       "      <td>1751</td>\n",
       "    </tr>\n",
       "    <tr>\n",
       "      <th>4</th>\n",
       "      <td>James</td>\n",
       "      <td>Monroe</td>\n",
       "      <td>1758</td>\n",
       "    </tr>\n",
       "  </tbody>\n",
       "</table>\n",
       "</div>"
      ],
      "text/plain": [
       "  first_name   last_name  year_of_birth\n",
       "0     George  Washington           1732\n",
       "1       John       Adams           1735\n",
       "2     Thomas   Jefferson           1743\n",
       "3      James     Madison           1751\n",
       "4      James      Monroe           1758"
      ]
     },
     "execution_count": 84,
     "metadata": {},
     "output_type": "execute_result"
    }
   ],
   "source": [
    "df.head()"
   ]
  },
  {
   "cell_type": "markdown",
   "metadata": {},
   "source": [
    "# Exporting\n",
    "There are many ways to export jupyter notebooks for others to view"
   ]
  },
  {
   "cell_type": "markdown",
   "metadata": {},
   "source": [
    "## plots & figures\n",
    "plt.savefig()"
   ]
  },
  {
   "cell_type": "code",
   "execution_count": 86,
   "metadata": {
    "ExecuteTime": {
     "end_time": "2018-11-28T20:40:01.508752Z",
     "start_time": "2018-11-28T20:40:01.266345Z"
    }
   },
   "outputs": [
    {
     "data": {
      "image/png": "[encoded data removed]",
      "text/plain": [
       "<Figure size 432x288 with 1 Axes>"
      ]
     },
     "metadata": {
      "needs_background": "light"
     },
     "output_type": "display_data"
    }
   ],
   "source": [
    "# matplotlib\n",
    "x = np.linspace(0, 2 * np.pi, 100)\n",
    "plt.plot(x, np.sin(x))\n",
    "plt.title('Matplotlib plot')\n",
    "plt.text(0, -.75, \"Super customizable!\", fontsize=16)\n",
    "plt.savefig('test_plot.pdf')"
   ]
  },
  {
   "cell_type": "markdown",
   "metadata": {},
   "source": [
    "## HTML / pdf with nbconvert\n",
    "File -> Download as "
   ]
  },
  {
   "cell_type": "markdown",
   "metadata": {},
   "source": [
    "## Github\n",
    "simply push to github, can view online."
   ]
  },
  {
   "cell_type": "markdown",
   "metadata": {
    "ExecuteTime": {
     "end_time": "2018-11-26T18:08:24.060273Z",
     "start_time": "2018-11-26T18:08:24.056129Z"
    }
   },
   "source": [
    "## Others\n",
    "* jupyterhub\n",
    "* nbviewer\n",
    "* mybinder"
   ]
  },
  {
   "cell_type": "markdown",
   "metadata": {},
   "source": [
    "# useful tips & tricks"
   ]
  },
  {
   "cell_type": "code",
   "execution_count": 89,
   "metadata": {
    "ExecuteTime": {
     "end_time": "2018-11-28T20:44:45.482356Z",
     "start_time": "2018-11-28T20:44:45.479840Z"
    }
   },
   "outputs": [],
   "source": [
    "import time"
   ]
  },
  {
   "cell_type": "code",
   "execution_count": 95,
   "metadata": {
    "ExecuteTime": {
     "end_time": "2018-11-28T20:46:31.317475Z",
     "start_time": "2018-11-28T20:46:31.314725Z"
    }
   },
   "outputs": [],
   "source": [
    "def funtion(x):\n",
    "    a = [1, 2, 3, 4, 5, 6]\n",
    "    fd = 1 - 1000 * 10\n",
    "    return fd"
   ]
  },
  {
   "cell_type": "markdown",
   "metadata": {},
   "source": [
    "## nbextensions\n",
    "- snippets\n",
    "- notify\n",
    "- scratchpad\n",
    "- Table of Contents\n",
    "- code_prettify\n",
    "- variable inspector\n",
    "- %%timeit"
   ]
  },
  {
   "cell_type": "markdown",
   "metadata": {},
   "source": [
    "# future / other exciting things\n",
    "## [jupyterlab](https://jupyterlab.readthedocs.io/en/stable/)\n",
    "online ecosystem to run multiple notebooks and programs simultaneously. \n",
    "Theoretically \"stable\", but version 1.0 should come out sometime soon (supposed to be before 2019, but seems to have slipped)\n",
    "## [Google Colaboratory](https://colab.research.google.com/)\n",
    "Google's collaboration system built on jupyter notebooks. Easy to start using, as any notebooks on google drive are automatically imported. "
   ]
  },
  {
   "cell_type": "code",
   "execution_count": null,
   "metadata": {},
   "outputs": [],
   "source": [
    "and edit!"
   ]
  }
 ],
 "metadata": {
  "kernelspec": {
   "display_name": "Python 3",
   "language": "python",
   "name": "python3"
  },
  "language_info": {
   "codemirror_mode": {
    "name": "ipython",
    "version": 3
   },
   "file_extension": ".py",
   "mimetype": "text/x-python",
   "name": "python",
   "nbconvert_exporter": "python",
   "pygments_lexer": "ipython3",
   "version": "3.6.5"
  },
  "toc": {
   "base_numbering": 1,
   "nav_menu": {},
   "number_sections": true,
   "sideBar": true,
   "skip_h1_title": false,
   "title_cell": "Table of Contents",
   "title_sidebar": "Contents",
   "toc_cell": true,
   "toc_position": {
    "height": "calc(100% - 180px)",
    "left": "10px",
    "top": "150px",
    "width": "202.4px"
   },
   "toc_section_display": true,
   "toc_window_display": true
  },
  "varInspector": {
   "cols": {
    "lenName": 16,
    "lenType": 16,
    "lenVar": 40
   },
   "kernels_config": {
    "python": {
     "delete_cmd_postfix": "",
     "delete_cmd_prefix": "del ",
     "library": "var_list.py",
     "varRefreshCmd": "print(var_dic_list())"
    },
    "r": {
     "delete_cmd_postfix": ") ",
     "delete_cmd_prefix": "rm(",
     "library": "var_list.r",
     "varRefreshCmd": "cat(var_dic_list()) "
    }
   },
   "position": {
    "height": "679.4px",
    "left": "377.587px",
    "right": "20px",
    "top": "102px",
    "width": "282.388px"
   },
   "types_to_exclude": [
    "module",
    "function",
    "builtin_function_or_method",
    "instance",
    "_Feature"
   ],
   "window_display": false
  }
 },
 "nbformat": 4,
 "nbformat_minor": 2
}
