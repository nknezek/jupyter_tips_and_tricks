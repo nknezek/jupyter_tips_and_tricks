{
 "cells": [
  {
   "cell_type": "markdown",
   "metadata": {},
   "source": [
    "# Start slow\n",
    "\n",
    "## Sub heading\n",
    "\n",
    "This is just a paragraph."
   ]
  },
  {
   "cell_type": "code",
   "execution_count": 1,
   "metadata": {
    "ExecuteTime": {
     "end_time": "2018-11-26T06:02:30.937392Z",
     "start_time": "2018-11-26T06:02:30.934944Z"
    }
   },
   "outputs": [],
   "source": [
    "# code cell\n",
    "name = \"Jonathan\""
   ]
  },
  {
   "cell_type": "markdown",
   "metadata": {},
   "source": [
    "# Tips and Tricks\n",
    "\n",
    "A markdown cell lets you do many _useful things_."
   ]
  },
  {
   "cell_type": "code",
   "execution_count": 2,
   "metadata": {
    "ExecuteTime": {
     "end_time": "2018-11-26T06:02:35.229695Z",
     "start_time": "2018-11-26T06:02:35.227392Z"
    }
   },
   "outputs": [],
   "source": [
    "# Add this to python2 code to make life easier -- safe to use in python3 as well.\n",
    "from __future__ import absolute_import, division, print_function"
   ]
  },
  {
   "cell_type": "code",
   "execution_count": 3,
   "metadata": {
    "ExecuteTime": {
     "end_time": "2018-11-26T06:02:35.733471Z",
     "start_time": "2018-11-26T06:02:35.730991Z"
    }
   },
   "outputs": [],
   "source": [
    "import numpy as np\n",
    "# don't do:\n",
    "# from numpy import *"
   ]
  },
  {
   "cell_type": "code",
   "execution_count": 4,
   "metadata": {
    "ExecuteTime": {
     "end_time": "2018-11-26T06:02:36.264014Z",
     "start_time": "2018-11-26T06:02:36.254293Z"
    }
   },
   "outputs": [
    {
     "data": {
      "text/plain": [
       "'a'"
      ]
     },
     "execution_count": 4,
     "metadata": {},
     "output_type": "execute_result"
    }
   ],
   "source": [
    "max('a')"
   ]
  },
  {
   "cell_type": "code",
   "execution_count": 5,
   "metadata": {
    "ExecuteTime": {
     "end_time": "2018-11-26T06:02:38.253023Z",
     "start_time": "2018-11-26T06:02:38.147845Z"
    }
   },
   "outputs": [
    {
     "ename": "TypeError",
     "evalue": "cannot perform reduce with flexible type",
     "output_type": "error",
     "traceback": [
      "\u001b[0;31m---------------------------------------------------------------------------\u001b[0m",
      "\u001b[0;31mTypeError\u001b[0m                                 Traceback (most recent call last)",
      "\u001b[0;32m<ipython-input-5-bc859c5c4752>\u001b[0m in \u001b[0;36m<module>\u001b[0;34m()\u001b[0m\n\u001b[0;32m----> 1\u001b[0;31m \u001b[0mnp\u001b[0m\u001b[0;34m.\u001b[0m\u001b[0mmax\u001b[0m\u001b[0;34m(\u001b[0m\u001b[0;34m'a'\u001b[0m\u001b[0;34m)\u001b[0m\u001b[0;34m\u001b[0m\u001b[0m\n\u001b[0m",
      "\u001b[0;32m~/.pyenv/versions/3.6.5/lib/python3.6/site-packages/numpy/core/fromnumeric.py\u001b[0m in \u001b[0;36mamax\u001b[0;34m(a, axis, out, keepdims, initial)\u001b[0m\n\u001b[1;32m   2332\u001b[0m     \"\"\"\n\u001b[1;32m   2333\u001b[0m     return _wrapreduction(a, np.maximum, 'max', axis, None, out, keepdims=keepdims,\n\u001b[0;32m-> 2334\u001b[0;31m                           initial=initial)\n\u001b[0m\u001b[1;32m   2335\u001b[0m \u001b[0;34m\u001b[0m\u001b[0m\n\u001b[1;32m   2336\u001b[0m \u001b[0;34m\u001b[0m\u001b[0m\n",
      "\u001b[0;32m~/.pyenv/versions/3.6.5/lib/python3.6/site-packages/numpy/core/fromnumeric.py\u001b[0m in \u001b[0;36m_wrapreduction\u001b[0;34m(obj, ufunc, method, axis, dtype, out, **kwargs)\u001b[0m\n\u001b[1;32m     81\u001b[0m                 \u001b[0;32mreturn\u001b[0m \u001b[0mreduction\u001b[0m\u001b[0;34m(\u001b[0m\u001b[0maxis\u001b[0m\u001b[0;34m=\u001b[0m\u001b[0maxis\u001b[0m\u001b[0;34m,\u001b[0m \u001b[0mout\u001b[0m\u001b[0;34m=\u001b[0m\u001b[0mout\u001b[0m\u001b[0;34m,\u001b[0m \u001b[0;34m**\u001b[0m\u001b[0mpasskwargs\u001b[0m\u001b[0;34m)\u001b[0m\u001b[0;34m\u001b[0m\u001b[0m\n\u001b[1;32m     82\u001b[0m \u001b[0;34m\u001b[0m\u001b[0m\n\u001b[0;32m---> 83\u001b[0;31m     \u001b[0;32mreturn\u001b[0m \u001b[0mufunc\u001b[0m\u001b[0;34m.\u001b[0m\u001b[0mreduce\u001b[0m\u001b[0;34m(\u001b[0m\u001b[0mobj\u001b[0m\u001b[0;34m,\u001b[0m \u001b[0maxis\u001b[0m\u001b[0;34m,\u001b[0m \u001b[0mdtype\u001b[0m\u001b[0;34m,\u001b[0m \u001b[0mout\u001b[0m\u001b[0;34m,\u001b[0m \u001b[0;34m**\u001b[0m\u001b[0mpasskwargs\u001b[0m\u001b[0;34m)\u001b[0m\u001b[0;34m\u001b[0m\u001b[0m\n\u001b[0m\u001b[1;32m     84\u001b[0m \u001b[0;34m\u001b[0m\u001b[0m\n\u001b[1;32m     85\u001b[0m \u001b[0;34m\u001b[0m\u001b[0m\n",
      "\u001b[0;31mTypeError\u001b[0m: cannot perform reduce with flexible type"
     ]
    }
   ],
   "source": [
    "np.max('a')"
   ]
  },
  {
   "cell_type": "code",
   "execution_count": 6,
   "metadata": {
    "ExecuteTime": {
     "end_time": "2018-11-26T06:02:46.932542Z",
     "start_time": "2018-11-26T06:02:46.632464Z"
    }
   },
   "outputs": [],
   "source": [
    "%matplotlib inline\n",
    "%config InlineBackend.figure_format='retina'"
   ]
  },
  {
   "cell_type": "markdown",
   "metadata": {},
   "source": [
    "## Imports"
   ]
  },
  {
   "cell_type": "code",
   "execution_count": 8,
   "metadata": {
    "ExecuteTime": {
     "end_time": "2018-11-26T06:03:01.025185Z",
     "start_time": "2018-11-26T06:03:01.022028Z"
    }
   },
   "outputs": [],
   "source": [
    "import pandas as pd\n",
    "import matplotlib.pyplot as plt\n",
    "import seaborn as sns\n",
    "import os\n",
    "from sklearn.datasets import load_boston\n",
    "from pivottablejs import pivot_ui\n",
    "# import qgrid\n",
    "import sys\n",
    "import warnings\n",
    "warnings.filterwarnings('ignore')"
   ]
  },
  {
   "cell_type": "markdown",
   "metadata": {},
   "source": [
    "# Keyboard shortcuts\n",
    "\n",
    "Practice doing these a few times and try to force yourself to use them whenever you can. \n",
    "\n",
    "## Help (h)\n",
    "For help in the Notebook, `ESC` + `h`\n",
    "(doesn't work in Lab)"
   ]
  },
  {
   "cell_type": "markdown",
   "metadata": {},
   "source": [
    "## Select multiple cells\n",
    "\n",
    "j, k, and arrow keys while holding shift selects multiple cells."
   ]
  },
  {
   "cell_type": "code",
   "execution_count": null,
   "metadata": {
    "ExecuteTime": {
     "end_time": "2018-06-06T07:37:56.959097Z",
     "start_time": "2018-06-06T07:37:56.956227Z"
    }
   },
   "outputs": [],
   "source": [
    "first = 1"
   ]
  },
  {
   "cell_type": "code",
   "execution_count": null,
   "metadata": {
    "ExecuteTime": {
     "end_time": "2018-06-06T07:37:56.959097Z",
     "start_time": "2018-06-06T07:37:56.956227Z"
    }
   },
   "outputs": [],
   "source": [
    "second = 2"
   ]
  },
  {
   "cell_type": "code",
   "execution_count": null,
   "metadata": {
    "ExecuteTime": {
     "end_time": "2018-06-06T07:37:56.959097Z",
     "start_time": "2018-06-06T07:37:56.956227Z"
    }
   },
   "outputs": [],
   "source": [
    "third = 3"
   ]
  },
  {
   "cell_type": "markdown",
   "metadata": {},
   "source": [
    "## Split a cell with -\n",
    "\n",
    "Well, ctrl + shift + -, but remember it by horizontal."
   ]
  },
  {
   "cell_type": "code",
   "execution_count": null,
   "metadata": {},
   "outputs": [],
   "source": [
    "print(name)"
   ]
  },
  {
   "cell_type": "markdown",
   "metadata": {},
   "source": [
    "## Add a new cell (a)bove"
   ]
  },
  {
   "cell_type": "code",
   "execution_count": null,
   "metadata": {},
   "outputs": [],
   "source": []
  },
  {
   "cell_type": "markdown",
   "metadata": {},
   "source": [
    "## Add a new cell (b)elow"
   ]
  },
  {
   "cell_type": "markdown",
   "metadata": {},
   "source": [
    "## (d)(d)elete "
   ]
  },
  {
   "cell_type": "markdown",
   "metadata": {},
   "source": [
    "## (c)opy cells\n",
    "\n",
    "## (v)aste cells"
   ]
  },
  {
   "cell_type": "markdown",
   "metadata": {},
   "source": [
    "# Pivot Tables w/ pandas\n",
    "\n",
    "A library and example from: http://nicolas.kruchten.com/content/2015/09/jupyter_pivottablejs/"
   ]
  },
  {
   "cell_type": "code",
   "execution_count": 9,
   "metadata": {
    "ExecuteTime": {
     "end_time": "2018-11-26T06:03:42.007239Z",
     "start_time": "2018-11-26T06:03:41.979417Z"
    }
   },
   "outputs": [],
   "source": [
    "df = pd.read_csv(\"../data/mps.csv\", encoding=\"ISO-8859-1\")"
   ]
  },
  {
   "cell_type": "code",
   "execution_count": 10,
   "metadata": {
    "ExecuteTime": {
     "end_time": "2018-11-26T06:03:42.469446Z",
     "start_time": "2018-11-26T06:03:42.457343Z"
    }
   },
   "outputs": [
    {
     "data": {
      "text/html": [
       "<div>\n",
       "<style scoped>\n",
       "    .dataframe tbody tr th:only-of-type {\n",
       "        vertical-align: middle;\n",
       "    }\n",
       "\n",
       "    .dataframe tbody tr th {\n",
       "        vertical-align: top;\n",
       "    }\n",
       "\n",
       "    .dataframe thead th {\n",
       "        text-align: right;\n",
       "    }\n",
       "</style>\n",
       "<table border=\"1\" class=\"dataframe\">\n",
       "  <thead>\n",
       "    <tr style=\"text-align: right;\">\n",
       "      <th></th>\n",
       "      <th>Name</th>\n",
       "      <th>Party</th>\n",
       "      <th>Province</th>\n",
       "      <th>Age</th>\n",
       "      <th>Gender</th>\n",
       "    </tr>\n",
       "  </thead>\n",
       "  <tbody>\n",
       "    <tr>\n",
       "      <th>0</th>\n",
       "      <td>Liu, Laurin</td>\n",
       "      <td>NDP</td>\n",
       "      <td>Quebec</td>\n",
       "      <td>22.0</td>\n",
       "      <td>Female</td>\n",
       "    </tr>\n",
       "    <tr>\n",
       "      <th>1</th>\n",
       "      <td>Mourani, Maria</td>\n",
       "      <td>Bloc Quebecois</td>\n",
       "      <td>Quebec</td>\n",
       "      <td>43.0</td>\n",
       "      <td>Female</td>\n",
       "    </tr>\n",
       "    <tr>\n",
       "      <th>2</th>\n",
       "      <td>Sellah, Djaouida</td>\n",
       "      <td>NDP</td>\n",
       "      <td>Quebec</td>\n",
       "      <td>NaN</td>\n",
       "      <td>Female</td>\n",
       "    </tr>\n",
       "    <tr>\n",
       "      <th>3</th>\n",
       "      <td>St-Denis, Lise</td>\n",
       "      <td>NDP</td>\n",
       "      <td>Quebec</td>\n",
       "      <td>72.0</td>\n",
       "      <td>Female</td>\n",
       "    </tr>\n",
       "    <tr>\n",
       "      <th>4</th>\n",
       "      <td>Fry, Hedy</td>\n",
       "      <td>Liberal</td>\n",
       "      <td>British Columbia</td>\n",
       "      <td>71.0</td>\n",
       "      <td>Female</td>\n",
       "    </tr>\n",
       "    <tr>\n",
       "      <th>5</th>\n",
       "      <td>Turmel, Nycole</td>\n",
       "      <td>NDP</td>\n",
       "      <td>Quebec</td>\n",
       "      <td>70.0</td>\n",
       "      <td>Female</td>\n",
       "    </tr>\n",
       "    <tr>\n",
       "      <th>6</th>\n",
       "      <td>Sgro, Judy</td>\n",
       "      <td>Liberal</td>\n",
       "      <td>Ontario</td>\n",
       "      <td>68.0</td>\n",
       "      <td>Female</td>\n",
       "    </tr>\n",
       "    <tr>\n",
       "      <th>7</th>\n",
       "      <td>Raynault, Francine</td>\n",
       "      <td>NDP</td>\n",
       "      <td>Quebec</td>\n",
       "      <td>67.0</td>\n",
       "      <td>Female</td>\n",
       "    </tr>\n",
       "    <tr>\n",
       "      <th>8</th>\n",
       "      <td>Davidson, Patricia</td>\n",
       "      <td>Conservative</td>\n",
       "      <td>Ontario</td>\n",
       "      <td>66.0</td>\n",
       "      <td>Female</td>\n",
       "    </tr>\n",
       "    <tr>\n",
       "      <th>9</th>\n",
       "      <td>Smith, Joy</td>\n",
       "      <td>Conservative</td>\n",
       "      <td>Manitoba</td>\n",
       "      <td>65.0</td>\n",
       "      <td>Female</td>\n",
       "    </tr>\n",
       "  </tbody>\n",
       "</table>\n",
       "</div>"
      ],
      "text/plain": [
       "                 Name           Party          Province   Age  Gender\n",
       "0         Liu, Laurin             NDP            Quebec  22.0  Female\n",
       "1      Mourani, Maria  Bloc Quebecois            Quebec  43.0  Female\n",
       "2    Sellah, Djaouida             NDP            Quebec   NaN  Female\n",
       "3      St-Denis, Lise             NDP            Quebec  72.0  Female\n",
       "4           Fry, Hedy         Liberal  British Columbia  71.0  Female\n",
       "5      Turmel, Nycole             NDP            Quebec  70.0  Female\n",
       "6          Sgro, Judy         Liberal           Ontario  68.0  Female\n",
       "7  Raynault, Francine             NDP            Quebec  67.0  Female\n",
       "8  Davidson, Patricia    Conservative           Ontario  66.0  Female\n",
       "9          Smith, Joy    Conservative          Manitoba  65.0  Female"
      ]
     },
     "execution_count": 10,
     "metadata": {},
     "output_type": "execute_result"
    }
   ],
   "source": [
    "# recommend using .head()\n",
    "df.head(10)"
   ]
  },
  {
   "cell_type": "markdown",
   "metadata": {},
   "source": [
    "# Enhanced Pandas Dataframe Display"
   ]
  },
  {
   "cell_type": "code",
   "execution_count": 11,
   "metadata": {
    "ExecuteTime": {
     "end_time": "2018-11-26T06:03:43.432208Z",
     "start_time": "2018-11-26T06:03:43.430122Z"
    }
   },
   "outputs": [],
   "source": [
    "# Province, Party, Average, Age, Heatmap"
   ]
  },
  {
   "cell_type": "code",
   "execution_count": null,
   "metadata": {
    "ExecuteTime": {
     "end_time": "2018-09-17T21:58:49.991969Z",
     "start_time": "2018-09-17T21:58:49.987737Z"
    }
   },
   "outputs": [],
   "source": []
  },
  {
   "cell_type": "code",
   "execution_count": 12,
   "metadata": {
    "ExecuteTime": {
     "end_time": "2018-11-26T06:03:44.780028Z",
     "start_time": "2018-11-26T06:03:44.771448Z"
    },
    "scrolled": false
   },
   "outputs": [
    {
     "data": {
      "text/html": [
       "\n",
       "        <iframe\n",
       "            width=\"100%\"\n",
       "            height=\"500\"\n",
       "            src=\"pivottablejs.html\"\n",
       "            frameborder=\"0\"\n",
       "            allowfullscreen\n",
       "        ></iframe>\n",
       "        "
      ],
      "text/plain": [
       "<IPython.lib.display.IFrame at 0x120543cf8>"
      ]
     },
     "execution_count": 12,
     "metadata": {},
     "output_type": "execute_result"
    }
   ],
   "source": [
    "pivot_ui(df)"
   ]
  },
  {
   "cell_type": "code",
   "execution_count": 13,
   "metadata": {
    "ExecuteTime": {
     "end_time": "2018-11-26T06:04:39.696037Z",
     "start_time": "2018-11-26T06:04:39.685329Z"
    }
   },
   "outputs": [],
   "source": [
    "df_dict = load_boston()\n",
    "features = pd.DataFrame(data=df_dict.data, columns = df_dict.feature_names)\n",
    "target = pd.DataFrame(data=df_dict.target, columns = ['MEDV'])\n",
    "df = pd.concat([features, target], axis=1)"
   ]
  },
  {
   "cell_type": "code",
   "execution_count": 14,
   "metadata": {
    "ExecuteTime": {
     "end_time": "2018-11-26T06:04:40.522668Z",
     "start_time": "2018-11-26T06:04:40.496818Z"
    }
   },
   "outputs": [
    {
     "data": {
      "text/html": [
       "<div>\n",
       "<style scoped>\n",
       "    .dataframe tbody tr th:only-of-type {\n",
       "        vertical-align: middle;\n",
       "    }\n",
       "\n",
       "    .dataframe tbody tr th {\n",
       "        vertical-align: top;\n",
       "    }\n",
       "\n",
       "    .dataframe thead th {\n",
       "        text-align: right;\n",
       "    }\n",
       "</style>\n",
       "<table border=\"1\" class=\"dataframe\">\n",
       "  <thead>\n",
       "    <tr style=\"text-align: right;\">\n",
       "      <th></th>\n",
       "      <th>CRIM</th>\n",
       "      <th>ZN</th>\n",
       "      <th>INDUS</th>\n",
       "      <th>CHAS</th>\n",
       "      <th>NOX</th>\n",
       "      <th>RM</th>\n",
       "      <th>AGE</th>\n",
       "      <th>DIS</th>\n",
       "      <th>RAD</th>\n",
       "      <th>TAX</th>\n",
       "      <th>PTRATIO</th>\n",
       "      <th>B</th>\n",
       "      <th>LSTAT</th>\n",
       "      <th>MEDV</th>\n",
       "      <th>Zone</th>\n",
       "    </tr>\n",
       "  </thead>\n",
       "  <tbody>\n",
       "    <tr>\n",
       "      <th>0</th>\n",
       "      <td>0.00632</td>\n",
       "      <td>18.0</td>\n",
       "      <td>2.31</td>\n",
       "      <td>0.0</td>\n",
       "      <td>0.538</td>\n",
       "      <td>6.575</td>\n",
       "      <td>65.2</td>\n",
       "      <td>4.0900</td>\n",
       "      <td>1.0</td>\n",
       "      <td>296.0</td>\n",
       "      <td>15.3</td>\n",
       "      <td>396.90</td>\n",
       "      <td>4.98</td>\n",
       "      <td>24.0</td>\n",
       "      <td>18.0</td>\n",
       "    </tr>\n",
       "    <tr>\n",
       "      <th>1</th>\n",
       "      <td>0.02731</td>\n",
       "      <td>0.0</td>\n",
       "      <td>7.07</td>\n",
       "      <td>0.0</td>\n",
       "      <td>0.469</td>\n",
       "      <td>6.421</td>\n",
       "      <td>78.9</td>\n",
       "      <td>4.9671</td>\n",
       "      <td>2.0</td>\n",
       "      <td>242.0</td>\n",
       "      <td>17.8</td>\n",
       "      <td>396.90</td>\n",
       "      <td>9.14</td>\n",
       "      <td>21.6</td>\n",
       "      <td>0.0</td>\n",
       "    </tr>\n",
       "    <tr>\n",
       "      <th>2</th>\n",
       "      <td>0.02729</td>\n",
       "      <td>0.0</td>\n",
       "      <td>7.07</td>\n",
       "      <td>0.0</td>\n",
       "      <td>0.469</td>\n",
       "      <td>7.185</td>\n",
       "      <td>61.1</td>\n",
       "      <td>4.9671</td>\n",
       "      <td>2.0</td>\n",
       "      <td>242.0</td>\n",
       "      <td>17.8</td>\n",
       "      <td>392.83</td>\n",
       "      <td>4.03</td>\n",
       "      <td>34.7</td>\n",
       "      <td>0.0</td>\n",
       "    </tr>\n",
       "    <tr>\n",
       "      <th>3</th>\n",
       "      <td>0.03237</td>\n",
       "      <td>0.0</td>\n",
       "      <td>2.18</td>\n",
       "      <td>0.0</td>\n",
       "      <td>0.458</td>\n",
       "      <td>6.998</td>\n",
       "      <td>45.8</td>\n",
       "      <td>6.0622</td>\n",
       "      <td>3.0</td>\n",
       "      <td>222.0</td>\n",
       "      <td>18.7</td>\n",
       "      <td>394.63</td>\n",
       "      <td>2.94</td>\n",
       "      <td>33.4</td>\n",
       "      <td>0.0</td>\n",
       "    </tr>\n",
       "    <tr>\n",
       "      <th>4</th>\n",
       "      <td>0.06905</td>\n",
       "      <td>0.0</td>\n",
       "      <td>2.18</td>\n",
       "      <td>0.0</td>\n",
       "      <td>0.458</td>\n",
       "      <td>7.147</td>\n",
       "      <td>54.2</td>\n",
       "      <td>6.0622</td>\n",
       "      <td>3.0</td>\n",
       "      <td>222.0</td>\n",
       "      <td>18.7</td>\n",
       "      <td>396.90</td>\n",
       "      <td>5.33</td>\n",
       "      <td>36.2</td>\n",
       "      <td>0.0</td>\n",
       "    </tr>\n",
       "  </tbody>\n",
       "</table>\n",
       "</div>"
      ],
      "text/plain": [
       "      CRIM    ZN  INDUS CHAS    NOX     RM   AGE     DIS  RAD    TAX  PTRATIO  \\\n",
       "0  0.00632  18.0   2.31  0.0  0.538  6.575  65.2  4.0900  1.0  296.0     15.3   \n",
       "1  0.02731   0.0   7.07  0.0  0.469  6.421  78.9  4.9671  2.0  242.0     17.8   \n",
       "2  0.02729   0.0   7.07  0.0  0.469  7.185  61.1  4.9671  2.0  242.0     17.8   \n",
       "3  0.03237   0.0   2.18  0.0  0.458  6.998  45.8  6.0622  3.0  222.0     18.7   \n",
       "4  0.06905   0.0   2.18  0.0  0.458  7.147  54.2  6.0622  3.0  222.0     18.7   \n",
       "\n",
       "        B  LSTAT  MEDV  Zone  \n",
       "0  396.90   4.98  24.0  18.0  \n",
       "1  396.90   9.14  21.6   0.0  \n",
       "2  392.83   4.03  34.7   0.0  \n",
       "3  394.63   2.94  33.4   0.0  \n",
       "4  396.90   5.33  36.2   0.0  "
      ]
     },
     "execution_count": 14,
     "metadata": {},
     "output_type": "execute_result"
    }
   ],
   "source": [
    "df['Zone'] = df['ZN'].astype('category')\n",
    "df['CHAS'] = df['CHAS'].astype('category')\n",
    "df.head()"
   ]
  },
  {
   "cell_type": "markdown",
   "metadata": {},
   "source": [
    "## QGrid\n",
    "\n",
    "Interactive pandas dataframes: https://github.com/quantopian/qgrid"
   ]
  },
  {
   "cell_type": "code",
   "execution_count": null,
   "metadata": {
    "ExecuteTime": {
     "end_time": "2018-09-17T23:42:32.525234Z",
     "start_time": "2018-09-17T23:42:32.522372Z"
    }
   },
   "outputs": [],
   "source": []
  },
  {
   "cell_type": "code",
   "execution_count": 46,
   "metadata": {
    "ExecuteTime": {
     "end_time": "2018-09-18T01:25:00.704529Z",
     "start_time": "2018-09-18T01:25:00.512342Z"
    }
   },
   "outputs": [],
   "source": [
    "qgrid_widget = qgrid.show_grid(df[['CRIM',\n",
    "                                   'Zone',\n",
    "                                   'INDUS',\n",
    "                                   'CHAS',\n",
    "                                   'NOX',\n",
    "                                   'AGE',\n",
    "                                   'RAD',\n",
    "                                   'LSTAT',\n",
    "                                   'MEDV',\n",
    "                                  ]], show_toolbar=True)"
   ]
  },
  {
   "cell_type": "code",
   "execution_count": 47,
   "metadata": {
    "ExecuteTime": {
     "end_time": "2018-09-18T01:25:02.666300Z",
     "start_time": "2018-09-18T01:25:02.660539Z"
    },
    "scrolled": false
   },
   "outputs": [
    {
     "data": {
      "application/vnd.jupyter.widget-view+json": {
       "model_id": "0a74ecfc146f484f8eb0635528a2f13b",
       "version_major": 2,
       "version_minor": 0
      },
      "text/plain": [
       "QgridWidget(grid_options={'fullWidthRows': True, 'syncColumnCellResize': True, 'forceFitColumns': True, 'defau…"
      ]
     },
     "metadata": {},
     "output_type": "display_data"
    }
   ],
   "source": [
    "qgrid_widget"
   ]
  },
  {
   "cell_type": "code",
   "execution_count": 48,
   "metadata": {
    "ExecuteTime": {
     "end_time": "2018-09-18T01:27:00.537173Z",
     "start_time": "2018-09-18T01:27:00.532201Z"
    }
   },
   "outputs": [],
   "source": [
    "df2 = qgrid_widget.get_changed_df()"
   ]
  },
  {
   "cell_type": "code",
   "execution_count": 49,
   "metadata": {
    "ExecuteTime": {
     "end_time": "2018-09-18T01:27:05.115047Z",
     "start_time": "2018-09-18T01:27:05.101140Z"
    }
   },
   "outputs": [
    {
     "data": {
      "text/html": [
       "<div>\n",
       "<style scoped>\n",
       "    .dataframe tbody tr th:only-of-type {\n",
       "        vertical-align: middle;\n",
       "    }\n",
       "\n",
       "    .dataframe tbody tr th {\n",
       "        vertical-align: top;\n",
       "    }\n",
       "\n",
       "    .dataframe thead th {\n",
       "        text-align: right;\n",
       "    }\n",
       "</style>\n",
       "<table border=\"1\" class=\"dataframe\">\n",
       "  <thead>\n",
       "    <tr style=\"text-align: right;\">\n",
       "      <th></th>\n",
       "      <th>CRIM</th>\n",
       "      <th>Zone</th>\n",
       "      <th>INDUS</th>\n",
       "      <th>CHAS</th>\n",
       "      <th>NOX</th>\n",
       "      <th>AGE</th>\n",
       "      <th>RAD</th>\n",
       "      <th>LSTAT</th>\n",
       "      <th>MEDV</th>\n",
       "    </tr>\n",
       "  </thead>\n",
       "  <tbody>\n",
       "    <tr>\n",
       "      <th>6</th>\n",
       "      <td>0.08829</td>\n",
       "      <td>12.5</td>\n",
       "      <td>7.87</td>\n",
       "      <td>0.0</td>\n",
       "      <td>0.5240</td>\n",
       "      <td>42.1</td>\n",
       "      <td>5.0</td>\n",
       "      <td>12.43</td>\n",
       "      <td>22.9</td>\n",
       "    </tr>\n",
       "    <tr>\n",
       "      <th>64</th>\n",
       "      <td>0.01951</td>\n",
       "      <td>17.5</td>\n",
       "      <td>1.38</td>\n",
       "      <td>0.0</td>\n",
       "      <td>0.4161</td>\n",
       "      <td>59.5</td>\n",
       "      <td>3.0</td>\n",
       "      <td>8.05</td>\n",
       "      <td>33.0</td>\n",
       "    </tr>\n",
       "    <tr>\n",
       "      <th>0</th>\n",
       "      <td>0.00632</td>\n",
       "      <td>18.0</td>\n",
       "      <td>2.31</td>\n",
       "      <td>0.0</td>\n",
       "      <td>0.5380</td>\n",
       "      <td>65.2</td>\n",
       "      <td>1.0</td>\n",
       "      <td>4.98</td>\n",
       "      <td>24.0</td>\n",
       "    </tr>\n",
       "  </tbody>\n",
       "</table>\n",
       "</div>"
      ],
      "text/plain": [
       "       CRIM  Zone  INDUS CHAS     NOX   AGE  RAD  LSTAT  MEDV\n",
       "6   0.08829  12.5   7.87  0.0  0.5240  42.1  5.0  12.43  22.9\n",
       "64  0.01951  17.5   1.38  0.0  0.4161  59.5  3.0   8.05  33.0\n",
       "0   0.00632  18.0   2.31  0.0  0.5380  65.2  1.0   4.98  24.0"
      ]
     },
     "execution_count": 49,
     "metadata": {},
     "output_type": "execute_result"
    }
   ],
   "source": [
    "df2.head(7)"
   ]
  },
  {
   "cell_type": "code",
   "execution_count": 50,
   "metadata": {
    "ExecuteTime": {
     "end_time": "2018-09-18T01:27:16.168268Z",
     "start_time": "2018-09-18T01:27:16.148523Z"
    }
   },
   "outputs": [
    {
     "data": {
      "text/html": [
       "<div>\n",
       "<style scoped>\n",
       "    .dataframe tbody tr th:only-of-type {\n",
       "        vertical-align: middle;\n",
       "    }\n",
       "\n",
       "    .dataframe tbody tr th {\n",
       "        vertical-align: top;\n",
       "    }\n",
       "\n",
       "    .dataframe thead th {\n",
       "        text-align: right;\n",
       "    }\n",
       "</style>\n",
       "<table border=\"1\" class=\"dataframe\">\n",
       "  <thead>\n",
       "    <tr style=\"text-align: right;\">\n",
       "      <th></th>\n",
       "      <th>CRIM</th>\n",
       "      <th>ZN</th>\n",
       "      <th>INDUS</th>\n",
       "      <th>CHAS</th>\n",
       "      <th>NOX</th>\n",
       "      <th>RM</th>\n",
       "      <th>AGE</th>\n",
       "      <th>DIS</th>\n",
       "      <th>RAD</th>\n",
       "      <th>TAX</th>\n",
       "      <th>PTRATIO</th>\n",
       "      <th>B</th>\n",
       "      <th>LSTAT</th>\n",
       "      <th>MEDV</th>\n",
       "      <th>Zone</th>\n",
       "    </tr>\n",
       "  </thead>\n",
       "  <tbody>\n",
       "    <tr>\n",
       "      <th>0</th>\n",
       "      <td>0.00632</td>\n",
       "      <td>18.0</td>\n",
       "      <td>2.31</td>\n",
       "      <td>0.0</td>\n",
       "      <td>0.538</td>\n",
       "      <td>6.575</td>\n",
       "      <td>65.2</td>\n",
       "      <td>4.0900</td>\n",
       "      <td>1.0</td>\n",
       "      <td>296.0</td>\n",
       "      <td>15.3</td>\n",
       "      <td>396.90</td>\n",
       "      <td>4.98</td>\n",
       "      <td>24.0</td>\n",
       "      <td>18.0</td>\n",
       "    </tr>\n",
       "    <tr>\n",
       "      <th>1</th>\n",
       "      <td>0.02731</td>\n",
       "      <td>0.0</td>\n",
       "      <td>7.07</td>\n",
       "      <td>0.0</td>\n",
       "      <td>0.469</td>\n",
       "      <td>6.421</td>\n",
       "      <td>78.9</td>\n",
       "      <td>4.9671</td>\n",
       "      <td>2.0</td>\n",
       "      <td>242.0</td>\n",
       "      <td>17.8</td>\n",
       "      <td>396.90</td>\n",
       "      <td>9.14</td>\n",
       "      <td>21.6</td>\n",
       "      <td>0.0</td>\n",
       "    </tr>\n",
       "    <tr>\n",
       "      <th>2</th>\n",
       "      <td>0.02729</td>\n",
       "      <td>0.0</td>\n",
       "      <td>7.07</td>\n",
       "      <td>0.0</td>\n",
       "      <td>0.469</td>\n",
       "      <td>7.185</td>\n",
       "      <td>61.1</td>\n",
       "      <td>4.9671</td>\n",
       "      <td>2.0</td>\n",
       "      <td>242.0</td>\n",
       "      <td>17.8</td>\n",
       "      <td>392.83</td>\n",
       "      <td>4.03</td>\n",
       "      <td>34.7</td>\n",
       "      <td>0.0</td>\n",
       "    </tr>\n",
       "    <tr>\n",
       "      <th>3</th>\n",
       "      <td>0.03237</td>\n",
       "      <td>0.0</td>\n",
       "      <td>2.18</td>\n",
       "      <td>0.0</td>\n",
       "      <td>0.458</td>\n",
       "      <td>6.998</td>\n",
       "      <td>45.8</td>\n",
       "      <td>6.0622</td>\n",
       "      <td>3.0</td>\n",
       "      <td>222.0</td>\n",
       "      <td>18.7</td>\n",
       "      <td>394.63</td>\n",
       "      <td>2.94</td>\n",
       "      <td>33.4</td>\n",
       "      <td>0.0</td>\n",
       "    </tr>\n",
       "    <tr>\n",
       "      <th>4</th>\n",
       "      <td>0.06905</td>\n",
       "      <td>0.0</td>\n",
       "      <td>2.18</td>\n",
       "      <td>0.0</td>\n",
       "      <td>0.458</td>\n",
       "      <td>7.147</td>\n",
       "      <td>54.2</td>\n",
       "      <td>6.0622</td>\n",
       "      <td>3.0</td>\n",
       "      <td>222.0</td>\n",
       "      <td>18.7</td>\n",
       "      <td>396.90</td>\n",
       "      <td>5.33</td>\n",
       "      <td>36.2</td>\n",
       "      <td>0.0</td>\n",
       "    </tr>\n",
       "    <tr>\n",
       "      <th>5</th>\n",
       "      <td>0.02985</td>\n",
       "      <td>0.0</td>\n",
       "      <td>2.18</td>\n",
       "      <td>0.0</td>\n",
       "      <td>0.458</td>\n",
       "      <td>6.430</td>\n",
       "      <td>58.7</td>\n",
       "      <td>6.0622</td>\n",
       "      <td>3.0</td>\n",
       "      <td>222.0</td>\n",
       "      <td>18.7</td>\n",
       "      <td>394.12</td>\n",
       "      <td>5.21</td>\n",
       "      <td>28.7</td>\n",
       "      <td>0.0</td>\n",
       "    </tr>\n",
       "    <tr>\n",
       "      <th>6</th>\n",
       "      <td>0.08829</td>\n",
       "      <td>12.5</td>\n",
       "      <td>7.87</td>\n",
       "      <td>0.0</td>\n",
       "      <td>0.524</td>\n",
       "      <td>6.012</td>\n",
       "      <td>66.6</td>\n",
       "      <td>5.5605</td>\n",
       "      <td>5.0</td>\n",
       "      <td>311.0</td>\n",
       "      <td>15.2</td>\n",
       "      <td>395.60</td>\n",
       "      <td>12.43</td>\n",
       "      <td>22.9</td>\n",
       "      <td>12.5</td>\n",
       "    </tr>\n",
       "  </tbody>\n",
       "</table>\n",
       "</div>"
      ],
      "text/plain": [
       "      CRIM    ZN  INDUS CHAS    NOX     RM   AGE     DIS  RAD    TAX  PTRATIO  \\\n",
       "0  0.00632  18.0   2.31  0.0  0.538  6.575  65.2  4.0900  1.0  296.0     15.3   \n",
       "1  0.02731   0.0   7.07  0.0  0.469  6.421  78.9  4.9671  2.0  242.0     17.8   \n",
       "2  0.02729   0.0   7.07  0.0  0.469  7.185  61.1  4.9671  2.0  242.0     17.8   \n",
       "3  0.03237   0.0   2.18  0.0  0.458  6.998  45.8  6.0622  3.0  222.0     18.7   \n",
       "4  0.06905   0.0   2.18  0.0  0.458  7.147  54.2  6.0622  3.0  222.0     18.7   \n",
       "5  0.02985   0.0   2.18  0.0  0.458  6.430  58.7  6.0622  3.0  222.0     18.7   \n",
       "6  0.08829  12.5   7.87  0.0  0.524  6.012  66.6  5.5605  5.0  311.0     15.2   \n",
       "\n",
       "        B  LSTAT  MEDV  Zone  \n",
       "0  396.90   4.98  24.0  18.0  \n",
       "1  396.90   9.14  21.6   0.0  \n",
       "2  392.83   4.03  34.7   0.0  \n",
       "3  394.63   2.94  33.4   0.0  \n",
       "4  396.90   5.33  36.2   0.0  \n",
       "5  394.12   5.21  28.7   0.0  \n",
       "6  395.60  12.43  22.9  12.5  "
      ]
     },
     "execution_count": 50,
     "metadata": {},
     "output_type": "execute_result"
    }
   ],
   "source": [
    "df.head(7)"
   ]
  },
  {
   "cell_type": "markdown",
   "metadata": {},
   "source": [
    "# Tab"
   ]
  },
  {
   "cell_type": "code",
   "execution_count": 51,
   "metadata": {
    "ExecuteTime": {
     "end_time": "2018-09-18T01:28:15.095295Z",
     "start_time": "2018-09-18T01:28:15.092645Z"
    }
   },
   "outputs": [],
   "source": [
    "import numpy as np"
   ]
  },
  {
   "cell_type": "code",
   "execution_count": 52,
   "metadata": {
    "ExecuteTime": {
     "end_time": "2018-09-18T01:28:49.202369Z",
     "start_time": "2018-09-18T01:28:49.184208Z"
    }
   },
   "outputs": [
    {
     "ename": "TypeError",
     "evalue": "chisquare() takes at least 1 positional argument (0 given)",
     "output_type": "error",
     "traceback": [
      "\u001b[0;31m-----------------------------------------------------------------------\u001b[0m",
      "\u001b[0;31mTypeError\u001b[0m                             Traceback (most recent call last)",
      "\u001b[0;32m<ipython-input-52-8575d948e151>\u001b[0m in \u001b[0;36m<module>\u001b[0;34m()\u001b[0m\n\u001b[0;32m----> 1\u001b[0;31m \u001b[0mnp\u001b[0m\u001b[0;34m.\u001b[0m\u001b[0mrandom\u001b[0m\u001b[0;34m.\u001b[0m\u001b[0mchisquare\u001b[0m\u001b[0;34m(\u001b[0m\u001b[0msize\u001b[0m\u001b[0;34m=\u001b[0m\u001b[0;36m5\u001b[0m\u001b[0;34m)\u001b[0m\u001b[0;34m\u001b[0m\u001b[0m\n\u001b[0m",
      "\u001b[0;32mmtrand.pyx\u001b[0m in \u001b[0;36mmtrand.RandomState.chisquare\u001b[0;34m()\u001b[0m\n",
      "\u001b[0;31mTypeError\u001b[0m: chisquare() takes at least 1 positional argument (0 given)"
     ]
    }
   ],
   "source": [
    "np.random.chisquare(size=5)"
   ]
  },
  {
   "cell_type": "code",
   "execution_count": null,
   "metadata": {
    "ExecuteTime": {
     "end_time": "2018-06-06T07:41:48.859315Z",
     "start_time": "2018-06-06T07:41:48.845245Z"
    }
   },
   "outputs": [],
   "source": [
    "# pure tab right ↓ less useful\n",
    "np.random.choice(jafopisjfapoisdjf)"
   ]
  },
  {
   "cell_type": "markdown",
   "metadata": {},
   "source": [
    "## shift-tab"
   ]
  },
  {
   "cell_type": "code",
   "execution_count": null,
   "metadata": {},
   "outputs": [],
   "source": [
    "# shift-tab right ↓ more useful\n",
    "np.linspace(start=, endpoint=, )"
   ]
  },
  {
   "cell_type": "markdown",
   "metadata": {},
   "source": [
    "## shift-tab-tab"
   ]
  },
  {
   "cell_type": "markdown",
   "metadata": {},
   "source": [
    "## shift-tab-tab-tab"
   ]
  },
  {
   "cell_type": "code",
   "execution_count": null,
   "metadata": {},
   "outputs": [],
   "source": [
    "np.linspace(50, 150, num=100, endpoint=False, )"
   ]
  },
  {
   "cell_type": "markdown",
   "metadata": {},
   "source": [
    "## shift-tab-tab-tab-tab"
   ]
  },
  {
   "cell_type": "code",
   "execution_count": null,
   "metadata": {
    "ExecuteTime": {
     "end_time": "2018-06-06T07:41:53.566846Z",
     "start_time": "2018-06-06T07:41:53.556479Z"
    }
   },
   "outputs": [],
   "source": [
    "plt.plot(np.linspace(start, stop,), )"
   ]
  },
  {
   "cell_type": "markdown",
   "metadata": {},
   "source": [
    "## ?"
   ]
  },
  {
   "cell_type": "code",
   "execution_count": 15,
   "metadata": {
    "ExecuteTime": {
     "end_time": "2018-11-26T06:05:31.114431Z",
     "start_time": "2018-11-26T06:05:31.109623Z"
    }
   },
   "outputs": [],
   "source": [
    "np.linspace?"
   ]
  },
  {
   "cell_type": "code",
   "execution_count": 54,
   "metadata": {
    "ExecuteTime": {
     "end_time": "2018-09-18T01:32:45.184457Z",
     "start_time": "2018-09-18T01:32:45.179002Z"
    }
   },
   "outputs": [],
   "source": [
    "?np.linspace"
   ]
  },
  {
   "cell_type": "markdown",
   "metadata": {},
   "source": [
    "## ??\n",
    "\n",
    "(Lab can scroll if you click)"
   ]
  },
  {
   "cell_type": "code",
   "execution_count": 23,
   "metadata": {
    "ExecuteTime": {
     "end_time": "2018-11-26T06:06:54.375646Z",
     "start_time": "2018-11-26T06:06:54.360584Z"
    },
    "scrolled": false
   },
   "outputs": [],
   "source": [
    "np.linspace??"
   ]
  },
  {
   "cell_type": "code",
   "execution_count": 56,
   "metadata": {
    "ExecuteTime": {
     "end_time": "2018-09-18T01:33:44.296947Z",
     "start_time": "2018-09-18T01:33:44.088148Z"
    }
   },
   "outputs": [],
   "source": [
    "!subl ~/miniconda3/envs/dspy3/lib/python3.6/site-packages/numpy/core/function_base.py"
   ]
  },
  {
   "cell_type": "code",
   "execution_count": 26,
   "metadata": {
    "ExecuteTime": {
     "end_time": "2018-11-26T06:08:05.327311Z",
     "start_time": "2018-11-26T06:08:04.918244Z"
    }
   },
   "outputs": [],
   "source": [
    "import inspect\n",
    "!subl {inspect.getsourcefile(np.linspace)}"
   ]
  },
  {
   "cell_type": "code",
   "execution_count": 57,
   "metadata": {
    "ExecuteTime": {
     "end_time": "2018-09-18T01:34:55.350296Z",
     "start_time": "2018-09-18T01:34:55.345136Z"
    }
   },
   "outputs": [
    {
     "name": "stdout",
     "output_type": "stream",
     "text": [
      "\n",
      "This is a multi-lined string\n",
      "that I want to write inside of a function.\n",
      "Notice what happens when I print this.\n",
      "    And when something is indented more.\n"
     ]
    }
   ],
   "source": [
    "import textwrap\n",
    "def example_function():\n",
    "    \"\"\"Docstring for example function\"\"\"\n",
    "    \n",
    "    print(textwrap.dedent(\"\"\"\n",
    "    This is a multi-lined string\n",
    "    that I want to write inside of a function.\n",
    "    Notice what happens when I print this.\n",
    "        And when something is indented more.\"\"\"))\n",
    "\n",
    "\n",
    "example_function()"
   ]
  },
  {
   "cell_type": "markdown",
   "metadata": {},
   "source": [
    "## Inspect _everything_ and Find and Replace"
   ]
  },
  {
   "cell_type": "code",
   "execution_count": 27,
   "metadata": {
    "ExecuteTime": {
     "end_time": "2018-11-26T06:08:52.860818Z",
     "start_time": "2018-11-26T06:08:52.857627Z"
    }
   },
   "outputs": [],
   "source": [
    "# But first find and replace\n",
    "def silly_function(xval):\n",
    "    \"\"\"Takes a value and returns the value.\"\"\"\n",
    "    xval_sq = xval ** 2.0\n",
    "    1 + 12\n",
    "    xval_abs = np.sqrt(xval_sq)\n",
    "    return xval_abs"
   ]
  },
  {
   "cell_type": "code",
   "execution_count": 28,
   "metadata": {
    "ExecuteTime": {
     "end_time": "2018-11-26T06:08:53.299949Z",
     "start_time": "2018-11-26T06:08:53.294661Z"
    }
   },
   "outputs": [
    {
     "data": {
      "text/plain": [
       "2.0"
      ]
     },
     "execution_count": 28,
     "metadata": {},
     "output_type": "execute_result"
    }
   ],
   "source": [
    "silly_function(2,)"
   ]
  },
  {
   "cell_type": "code",
   "execution_count": 29,
   "metadata": {
    "ExecuteTime": {
     "end_time": "2018-11-26T06:08:55.299030Z",
     "start_time": "2018-11-26T06:08:55.294201Z"
    }
   },
   "outputs": [],
   "source": [
    "silly_function?"
   ]
  },
  {
   "cell_type": "code",
   "execution_count": 30,
   "metadata": {
    "ExecuteTime": {
     "end_time": "2018-11-26T06:08:57.746865Z",
     "start_time": "2018-11-26T06:08:57.740308Z"
    }
   },
   "outputs": [],
   "source": [
    "silly_function??"
   ]
  },
  {
   "cell_type": "code",
   "execution_count": 31,
   "metadata": {
    "ExecuteTime": {
     "end_time": "2018-11-26T06:09:06.029773Z",
     "start_time": "2018-11-26T06:09:05.896052Z"
    }
   },
   "outputs": [
    {
     "name": "stdout",
     "output_type": "stream",
     "text": [
      "coal_prod_2008.csv        coal_prod_2011.csv        coal_prod_cleaned.csv.zip\r\n",
      "coal_prod_2009.csv        coal_prod_2012.csv        mps.csv\r\n",
      "coal_prod_2010.csv        coal_prod_cleaned.csv     raw_players.csv.gz\r\n"
     ]
    }
   ],
   "source": [
    "!ls ../data/"
   ]
  },
  {
   "cell_type": "code",
   "execution_count": 32,
   "metadata": {
    "ExecuteTime": {
     "end_time": "2018-11-26T06:09:09.358046Z",
     "start_time": "2018-11-26T06:09:09.344526Z"
    }
   },
   "outputs": [],
   "source": [
    "coal_years = !ls ../data/coal_prod_20*.csv"
   ]
  },
  {
   "cell_type": "code",
   "execution_count": 33,
   "metadata": {
    "ExecuteTime": {
     "end_time": "2018-11-26T06:09:11.376407Z",
     "start_time": "2018-11-26T06:09:11.372669Z"
    }
   },
   "outputs": [
    {
     "data": {
      "text/plain": [
       "['../data/coal_prod_2008.csv',\n",
       " '../data/coal_prod_2009.csv',\n",
       " '../data/coal_prod_2010.csv',\n",
       " '../data/coal_prod_2011.csv',\n",
       " '../data/coal_prod_2012.csv']"
      ]
     },
     "execution_count": 33,
     "metadata": {},
     "output_type": "execute_result"
    }
   ],
   "source": [
    "coal_years"
   ]
  },
  {
   "cell_type": "markdown",
   "metadata": {},
   "source": [
    "## Line numbers (lowercase \"L\")\n",
    "\n",
    "Type lowercase \"L\" to have line numbers; shift-L for line numbers notebook-wide."
   ]
  },
  {
   "cell_type": "markdown",
   "metadata": {},
   "source": [
    "## Move blocks of code around\n",
    "\n",
    "\n",
    "### Indent/dedent\n",
    "\n",
    "    Cmd + [\n",
    "    Cmd + ]\n",
    "\n",
    "### Comment\n",
    "\n",
    "    Cmd + /"
   ]
  },
  {
   "cell_type": "code",
   "execution_count": 67,
   "metadata": {
    "ExecuteTime": {
     "end_time": "2018-09-18T01:41:44.039339Z",
     "start_time": "2018-09-18T01:41:44.034049Z"
    }
   },
   "outputs": [],
   "source": [
    "example_dict = {}\n",
    "\n",
    "# Indent/dedent/comment\n",
    "for index in range(5):\n",
    "    example_dict[\"one\"] = 1\n",
    "    example_dict[\"two\"] = 2\n",
    "    example_dict[\"three\"] = 3\n",
    "    example_dict[\"four\"] = 4"
   ]
  },
  {
   "cell_type": "markdown",
   "metadata": {},
   "source": [
    "## Multicursor magic\n",
    "\n",
    "Hold down `option`, click and drag (for big cursor).\n",
    "\n",
    "cmd + click == wherever you click. \n",
    "\n",
    "Shift command P -- command palette."
   ]
  },
  {
   "cell_type": "code",
   "execution_count": 68,
   "metadata": {
    "ExecuteTime": {
     "end_time": "2018-09-18T01:45:29.194287Z",
     "start_time": "2018-09-18T01:45:29.191089Z"
    }
   },
   "outputs": [],
   "source": [
    "example_dict[\"prepend_one_better_neat\"] = 1.0\n",
    "example_dict[\"prepend_two_better_neat\"] = 2.0\n",
    "example_dict[\"prepend_three_better_neat\"] = 3.0\n",
    "example_dict[\"prepend_four_better_neat\"] = 4.0"
   ]
  },
  {
   "cell_type": "markdown",
   "metadata": {},
   "source": [
    "## Monospace"
   ]
  },
  {
   "cell_type": "markdown",
   "metadata": {},
   "source": [
    "You can also get `monospaced` fonts by indenting 4 spaces:\n",
    "\n",
    "    mkdir toc\n",
    "    cd toc"
   ]
  },
  {
   "cell_type": "markdown",
   "metadata": {},
   "source": [
    "## Syntax Highlighting"
   ]
  },
  {
   "cell_type": "markdown",
   "metadata": {},
   "source": [
    "Wrap with triple-backticks and language:\n",
    "\n",
    "```bash\n",
    "mkdir toc\n",
    "cd toc\n",
    "wget https://repo.continuum.io/miniconda/Miniconda3-latest-MacOSX-x86_64.sh\n",
    "```"
   ]
  },
  {
   "cell_type": "markdown",
   "metadata": {},
   "source": [
    "```SQL\n",
    "SELECT first_name,\n",
    "       last_name,\n",
    "       year_of_birth\n",
    "FROM presidents\n",
    "WHERE year_of_birth > 1800;\n",
    "```"
   ]
  },
  {
   "cell_type": "markdown",
   "metadata": {},
   "source": [
    "## Headings and LaTeX\n",
    "\n",
    "With text and $\\LaTeX$ support.\n",
    "\n",
    "$$\\begin{align}\n",
    "        B'&=-\\nabla \\times E,\\\\\n",
    "        E'&=\\nabla \\times B - 4\\pi j\n",
    "\\end{align}$$"
   ]
  },
  {
   "cell_type": "markdown",
   "metadata": {},
   "source": [
    "# Magics\n",
    "\n",
    " - `%` $\\equiv$ inline magic\n",
    " - `%%` $\\equiv$ cell magic"
   ]
  },
  {
   "cell_type": "code",
   "execution_count": 34,
   "metadata": {
    "ExecuteTime": {
     "end_time": "2018-11-26T06:09:50.978995Z",
     "start_time": "2018-11-26T06:09:50.975037Z"
    }
   },
   "outputs": [
    {
     "data": {
      "text/latex": [
       "\n",
       "If you want to get crazier$\\ldots$\n",
       "\n",
       "\\begin{equation}\n",
       "\\oint_S {E_n dA = \\frac{1}{{\\varepsilon _0 }}} Q_\\textrm{inside}\n",
       "\\end{equation}"
      ],
      "text/plain": [
       "<IPython.core.display.Latex object>"
      ]
     },
     "metadata": {},
     "output_type": "display_data"
    }
   ],
   "source": [
    "%%latex\n",
    "\n",
    "If you want to get crazier$\\ldots$\n",
    "\n",
    "\\begin{equation}\n",
    "\\oint_S {E_n dA = \\frac{1}{{\\varepsilon _0 }}} Q_\\textrm{inside}\n",
    "\\end{equation}"
   ]
  },
  {
   "cell_type": "code",
   "execution_count": 35,
   "metadata": {
    "ExecuteTime": {
     "end_time": "2018-11-26T06:09:53.242677Z",
     "start_time": "2018-11-26T06:09:53.222069Z"
    }
   },
   "outputs": [
    {
     "name": "stderr",
     "output_type": "stream",
     "text": [
      "bash: line 1: wget: command not found\n",
      "tar: Error opening archive: Failed to open '../vpfit10.2.tar.gz'\n"
     ]
    }
   ],
   "source": [
    "%%bash\n",
    "wget http://www.ast.cam.ac.uk/~rfc/vpfit10.2.tar.gz\n",
    "mkdir vpfit10\n",
    "cd vpfit10\n",
    "tar -xvzf ../vpfit10.2.tar.gz"
   ]
  },
  {
   "cell_type": "code",
   "execution_count": 36,
   "metadata": {
    "ExecuteTime": {
     "end_time": "2018-11-26T06:10:00.408256Z",
     "start_time": "2018-11-26T06:10:00.405909Z"
    }
   },
   "outputs": [],
   "source": [
    "normal_argument = 12.4\n",
    "second_argument = 98.4\n",
    "\n",
    "arg_with_spaces = \"the secret to life\""
   ]
  },
  {
   "cell_type": "code",
   "execution_count": 37,
   "metadata": {
    "ExecuteTime": {
     "end_time": "2018-11-26T06:10:01.883204Z",
     "start_time": "2018-11-26T06:10:01.871189Z"
    }
   },
   "outputs": [
    {
     "name": "stdout",
     "output_type": "stream",
     "text": [
      "This script knows the value of the argument: 12.4\n",
      "It also has no trouble with the second argument: 98.4\n"
     ]
    }
   ],
   "source": [
    "%%bash -s {normal_argument} {second_argument}\n",
    "echo \"This script knows the value of the argument: $1\"\n",
    "echo \"It also has no trouble with the second argument: $2\""
   ]
  },
  {
   "cell_type": "code",
   "execution_count": 38,
   "metadata": {
    "ExecuteTime": {
     "end_time": "2018-11-26T06:10:13.504742Z",
     "start_time": "2018-11-26T06:10:13.491605Z"
    }
   },
   "outputs": [
    {
     "name": "stdout",
     "output_type": "stream",
     "text": [
      "This bash script knows the secret to life.\n"
     ]
    }
   ],
   "source": [
    "%%bash -s \"$arg_with_spaces\"\n",
    "echo \"This bash script knows $1.\""
   ]
  },
  {
   "cell_type": "code",
   "execution_count": 39,
   "metadata": {
    "ExecuteTime": {
     "end_time": "2018-11-26T06:10:16.712253Z",
     "start_time": "2018-11-26T06:10:16.585475Z"
    }
   },
   "outputs": [
    {
     "name": "stdout",
     "output_type": "stream",
     "text": [
      "00-Overview.ipynb                10-R-stuff.ipynb\r\n",
      "01-Tips-and-tricks.ipynb         11-older-stuff.ipynb\r\n",
      "02-NBExtensions.ipynb            12-old-pandas.ipynb\r\n",
      "03-Interactive-Splines.ipynb     Advanced-Notebook-Tricks.ipynb\r\n",
      "04-Autoreload.ipynb              Basic-Plotting.ipynb\r\n",
      "05-SQL-Example.ipynb             Data_Cleaning.ipynb\r\n",
      "06-Advanced-Visualization.ipynb  history.ipynb\r\n",
      "07-Some_basics.ipynb             pivottablejs.html\r\n",
      "08-More_basics.ipynb             \u001b[34mvpfit10\u001b[m\u001b[m/\r\n",
      "09-Extras.ipynb\r\n"
     ]
    }
   ],
   "source": [
    "ls"
   ]
  },
  {
   "cell_type": "code",
   "execution_count": 40,
   "metadata": {
    "ExecuteTime": {
     "end_time": "2018-11-26T06:10:17.754256Z",
     "start_time": "2018-11-26T06:10:17.633619Z"
    }
   },
   "outputs": [
    {
     "name": "stdout",
     "output_type": "stream",
     "text": [
      "00-Overview.ipynb               10-R-stuff.ipynb\r\n",
      "01-Tips-and-tricks.ipynb        11-older-stuff.ipynb\r\n",
      "02-NBExtensions.ipynb           12-old-pandas.ipynb\r\n",
      "03-Interactive-Splines.ipynb    Advanced-Notebook-Tricks.ipynb\r\n",
      "04-Autoreload.ipynb             Basic-Plotting.ipynb\r\n",
      "05-SQL-Example.ipynb            Data_Cleaning.ipynb\r\n",
      "06-Advanced-Visualization.ipynb history.ipynb\r\n",
      "07-Some_basics.ipynb            pivottablejs.html\r\n",
      "08-More_basics.ipynb            \u001b[34mvpfit10\u001b[m\u001b[m\r\n",
      "09-Extras.ipynb\r\n"
     ]
    }
   ],
   "source": [
    "!ls"
   ]
  },
  {
   "cell_type": "code",
   "execution_count": 41,
   "metadata": {
    "ExecuteTime": {
     "end_time": "2018-11-26T06:10:19.371728Z",
     "start_time": "2018-11-26T06:10:19.249239Z"
    }
   },
   "outputs": [
    {
     "name": "stdout",
     "output_type": "stream",
     "text": [
      "00-Overview.ipynb                10-R-stuff.ipynb\r\n",
      "01-Tips-and-tricks.ipynb         11-older-stuff.ipynb\r\n",
      "02-NBExtensions.ipynb            12-old-pandas.ipynb\r\n",
      "03-Interactive-Splines.ipynb     Advanced-Notebook-Tricks.ipynb\r\n",
      "04-Autoreload.ipynb              Basic-Plotting.ipynb\r\n",
      "05-SQL-Example.ipynb             Data_Cleaning.ipynb\r\n",
      "06-Advanced-Visualization.ipynb  history.ipynb\r\n",
      "07-Some_basics.ipynb             pivottablejs.html\r\n",
      "08-More_basics.ipynb             \u001b[34mvpfit10\u001b[m\u001b[m/\r\n",
      "09-Extras.ipynb\r\n"
     ]
    }
   ],
   "source": [
    "%ls"
   ]
  },
  {
   "cell_type": "code",
   "execution_count": 42,
   "metadata": {
    "ExecuteTime": {
     "end_time": "2018-11-26T06:10:24.552003Z",
     "start_time": "2018-11-26T06:10:24.432973Z"
    },
    "scrolled": true
   },
   "outputs": [],
   "source": [
    "ls vpfit10/"
   ]
  },
  {
   "cell_type": "code",
   "execution_count": 43,
   "metadata": {
    "ExecuteTime": {
     "end_time": "2018-11-26T06:10:26.619288Z",
     "start_time": "2018-11-26T06:10:26.617057Z"
    }
   },
   "outputs": [],
   "source": [
    "tailthing = \"*.ipynb\""
   ]
  },
  {
   "cell_type": "code",
   "execution_count": 44,
   "metadata": {
    "ExecuteTime": {
     "end_time": "2018-11-26T06:10:27.542779Z",
     "start_time": "2018-11-26T06:10:27.539323Z"
    }
   },
   "outputs": [
    {
     "data": {
      "text/plain": [
       "'*.ipynb'"
      ]
     },
     "execution_count": 44,
     "metadata": {},
     "output_type": "execute_result"
    }
   ],
   "source": [
    "tailthing"
   ]
  },
  {
   "cell_type": "code",
   "execution_count": 45,
   "metadata": {
    "ExecuteTime": {
     "end_time": "2018-11-26T06:10:29.562474Z",
     "start_time": "2018-11-26T06:10:29.439821Z"
    }
   },
   "outputs": [
    {
     "name": "stdout",
     "output_type": "stream",
     "text": [
      "00-Overview.ipynb               09-Extras.ipynb\r\n",
      "01-Tips-and-tricks.ipynb        10-R-stuff.ipynb\r\n",
      "02-NBExtensions.ipynb           11-older-stuff.ipynb\r\n",
      "03-Interactive-Splines.ipynb    12-old-pandas.ipynb\r\n",
      "04-Autoreload.ipynb             Advanced-Notebook-Tricks.ipynb\r\n",
      "05-SQL-Example.ipynb            Basic-Plotting.ipynb\r\n",
      "06-Advanced-Visualization.ipynb Data_Cleaning.ipynb\r\n",
      "07-Some_basics.ipynb            history.ipynb\r\n",
      "08-More_basics.ipynb\r\n"
     ]
    }
   ],
   "source": [
    "!ls {tailthing}"
   ]
  },
  {
   "cell_type": "code",
   "execution_count": 46,
   "metadata": {
    "ExecuteTime": {
     "end_time": "2018-11-26T06:10:36.603568Z",
     "start_time": "2018-11-26T06:10:36.591868Z"
    }
   },
   "outputs": [],
   "source": [
    "output = !ls "
   ]
  },
  {
   "cell_type": "code",
   "execution_count": 47,
   "metadata": {
    "ExecuteTime": {
     "end_time": "2018-11-26T06:10:36.913142Z",
     "start_time": "2018-11-26T06:10:36.909172Z"
    }
   },
   "outputs": [
    {
     "data": {
      "text/plain": [
       "['00-Overview.ipynb',\n",
       " '01-Tips-and-tricks.ipynb',\n",
       " '02-NBExtensions.ipynb',\n",
       " '03-Interactive-Splines.ipynb',\n",
       " '04-Autoreload.ipynb',\n",
       " '05-SQL-Example.ipynb',\n",
       " '06-Advanced-Visualization.ipynb',\n",
       " '07-Some_basics.ipynb',\n",
       " '08-More_basics.ipynb',\n",
       " '09-Extras.ipynb',\n",
       " '10-R-stuff.ipynb',\n",
       " '11-older-stuff.ipynb',\n",
       " '12-old-pandas.ipynb',\n",
       " 'Advanced-Notebook-Tricks.ipynb',\n",
       " 'Basic-Plotting.ipynb',\n",
       " 'Data_Cleaning.ipynb',\n",
       " 'history.ipynb',\n",
       " 'pivottablejs.html',\n",
       " 'vpfit10']"
      ]
     },
     "execution_count": 47,
     "metadata": {},
     "output_type": "execute_result"
    }
   ],
   "source": [
    "output"
   ]
  },
  {
   "cell_type": "code",
   "execution_count": 48,
   "metadata": {
    "ExecuteTime": {
     "end_time": "2018-11-26T06:10:42.869345Z",
     "start_time": "2018-11-26T06:10:42.864504Z"
    }
   },
   "outputs": [
    {
     "data": {
      "text/plain": [
       "{'TERM_PROGRAM': 'iTerm.app',\n",
       " 'PYENV_ROOT': '/Users/nknezek/.pyenv',\n",
       " 'PIPENV_PYTHON': '/Users/nknezek/.pyenv/shims/python',\n",
       " 'SHELL': '/bin/bash',\n",
       " 'TERM': 'xterm-color',\n",
       " 'TMPDIR': '/var/folders/ly/3vh2wjg95jb5mbhlwvxrp5km0000gn/T/',\n",
       " 'PYTHON_PATH': '/Users/nknezek/.pyenv/shims/python',\n",
       " 'Apple_PubSub_Socket_Render': '/private/tmp/com.apple.launchd.rdYjXFLsFw/Render',\n",
       " 'TERM_PROGRAM_VERSION': '3.2.5',\n",
       " 'TERM_SESSION_ID': 'w0t0p0:1DFD1BEE-203F-43B3-8E86-4108525FE072',\n",
       " 'PYENV_VERSION': '3.6.5',\n",
       " 'USER': 'nknezek',\n",
       " 'SSH_AUTH_SOCK': '/private/tmp/com.apple.launchd.syEhHJqn6O/Listeners',\n",
       " 'PYENV_DIR': '/Users/nknezek',\n",
       " '__CF_USER_TEXT_ENCODING': '0x1F5:0x0:0x0',\n",
       " 'PATH': '/Users/nknezek/.pyenv/versions/3.6.5/bin:/Users/nknezek/.pyenv/versions/3.6.5/bin:/usr/local/Cellar/pyenv/1.2.7/libexec:/Users/nknezek/.jenv/shims:/Users/nknezek/.pyenv/shims:/usr/local/bin:/usr/bin:/bin:/usr/sbin:/sbin',\n",
       " 'PWD': '/Users/nknezek',\n",
       " 'JENV_LOADED': '1',\n",
       " 'LANG': 'en_US.UTF-8',\n",
       " 'ITERM_PROFILE': 'Default',\n",
       " 'PYENV_HOOK_PATH': '/Users/nknezek/.pyenv/pyenv.d:/usr/local/Cellar/pyenv/1.2.7/pyenv.d:/usr/local/etc/pyenv.d:/etc/pyenv.d:/usr/lib/pyenv/hooks',\n",
       " 'XPC_FLAGS': '0x0',\n",
       " 'XPC_SERVICE_NAME': '0',\n",
       " 'COLORFGBG': '7;0',\n",
       " 'HOME': '/Users/nknezek',\n",
       " 'SHLVL': '1',\n",
       " 'PYENV_SHELL': 'bash',\n",
       " 'ITERM_SESSION_ID': 'w0t0p0:1DFD1BEE-203F-43B3-8E86-4108525FE072',\n",
       " 'LOGNAME': 'nknezek',\n",
       " 'COLORTERM': 'truecolor',\n",
       " 'JPY_PARENT_PID': '6970',\n",
       " 'CLICOLOR': '1',\n",
       " 'PAGER': 'cat',\n",
       " 'GIT_PAGER': 'cat',\n",
       " 'MPLBACKEND': 'module://ipykernel.pylab.backend_inline'}"
      ]
     },
     "execution_count": 48,
     "metadata": {},
     "output_type": "execute_result"
    }
   ],
   "source": [
    "%env "
   ]
  },
  {
   "cell_type": "code",
   "execution_count": null,
   "metadata": {},
   "outputs": [],
   "source": []
  },
  {
   "cell_type": "markdown",
   "metadata": {},
   "source": [
    "## Danger zone\n",
    "\n",
    "    _, _N and _iN"
   ]
  },
  {
   "cell_type": "code",
   "execution_count": 81,
   "metadata": {
    "ExecuteTime": {
     "end_time": "2018-09-18T01:58:13.733397Z",
     "start_time": "2018-09-18T01:58:13.610701Z"
    }
   },
   "outputs": [
    {
     "name": "stdout",
     "output_type": "stream",
     "text": [
      "/Users/jonathan/github/jupyter-tips-and-tricks/notebooks\r\n"
     ]
    }
   ],
   "source": [
    "!pwd"
   ]
  },
  {
   "cell_type": "code",
   "execution_count": 82,
   "metadata": {
    "ExecuteTime": {
     "end_time": "2018-09-18T01:58:15.294337Z",
     "start_time": "2018-09-18T01:58:15.288906Z"
    }
   },
   "outputs": [
    {
     "data": {
      "text/plain": [
       "3"
      ]
     },
     "execution_count": 82,
     "metadata": {},
     "output_type": "execute_result"
    }
   ],
   "source": [
    "a = 3\n",
    "a"
   ]
  },
  {
   "cell_type": "code",
   "execution_count": 83,
   "metadata": {
    "ExecuteTime": {
     "end_time": "2018-09-18T01:58:29.966635Z",
     "start_time": "2018-09-18T01:58:29.961071Z"
    }
   },
   "outputs": [
    {
     "data": {
      "text/plain": [
       "'a = 3\\na'"
      ]
     },
     "execution_count": 83,
     "metadata": {},
     "output_type": "execute_result"
    }
   ],
   "source": [
    "_i82"
   ]
  },
  {
   "cell_type": "code",
   "execution_count": 84,
   "metadata": {
    "ExecuteTime": {
     "end_time": "2018-09-18T01:58:39.473182Z",
     "start_time": "2018-09-18T01:58:39.468616Z"
    }
   },
   "outputs": [
    {
     "data": {
      "text/plain": [
       "3"
      ]
     },
     "execution_count": 84,
     "metadata": {},
     "output_type": "execute_result"
    }
   ],
   "source": [
    "_82"
   ]
  },
  {
   "cell_type": "code",
   "execution_count": 85,
   "metadata": {
    "ExecuteTime": {
     "end_time": "2018-09-18T01:58:55.952794Z",
     "start_time": "2018-09-18T01:58:55.948696Z"
    }
   },
   "outputs": [
    {
     "data": {
      "text/plain": [
       "3"
      ]
     },
     "execution_count": 85,
     "metadata": {},
     "output_type": "execute_result"
    }
   ],
   "source": [
    "_"
   ]
  },
  {
   "cell_type": "code",
   "execution_count": 86,
   "metadata": {
    "ExecuteTime": {
     "end_time": "2018-09-18T01:59:08.812042Z",
     "start_time": "2018-09-18T01:59:08.808989Z"
    }
   },
   "outputs": [],
   "source": [
    "b = 5"
   ]
  },
  {
   "cell_type": "code",
   "execution_count": 87,
   "metadata": {
    "ExecuteTime": {
     "end_time": "2018-09-18T01:59:43.827023Z",
     "start_time": "2018-09-18T01:59:43.824659Z"
    }
   },
   "outputs": [],
   "source": [
    "c = a * b "
   ]
  },
  {
   "cell_type": "code",
   "execution_count": null,
   "metadata": {},
   "outputs": [],
   "source": []
  },
  {
   "cell_type": "code",
   "execution_count": null,
   "metadata": {
    "ExecuteTime": {
     "end_time": "2018-06-07T01:46:36.999622Z",
     "start_time": "2018-06-07T01:46:36.995686Z"
    }
   },
   "outputs": [],
   "source": []
  },
  {
   "cell_type": "code",
   "execution_count": null,
   "metadata": {},
   "outputs": [],
   "source": []
  },
  {
   "cell_type": "code",
   "execution_count": 88,
   "metadata": {
    "ExecuteTime": {
     "end_time": "2018-09-18T01:59:51.965404Z",
     "start_time": "2018-09-18T01:59:51.587282Z"
    }
   },
   "outputs": [],
   "source": [
    "%notebook history.ipynb"
   ]
  },
  {
   "cell_type": "code",
   "execution_count": null,
   "metadata": {},
   "outputs": [],
   "source": []
  },
  {
   "cell_type": "code",
   "execution_count": null,
   "metadata": {},
   "outputs": [],
   "source": []
  },
  {
   "cell_type": "code",
   "execution_count": null,
   "metadata": {
    "ExecuteTime": {
     "end_time": "2018-02-25T23:12:50.247713Z",
     "start_time": "2018-02-25T23:12:50.065966Z"
    }
   },
   "outputs": [],
   "source": [
    "!subl 01-Tips-and-tricks.ipynb"
   ]
  },
  {
   "cell_type": "code",
   "execution_count": null,
   "metadata": {},
   "outputs": [],
   "source": []
  },
  {
   "cell_type": "code",
   "execution_count": null,
   "metadata": {},
   "outputs": [],
   "source": []
  },
  {
   "cell_type": "code",
   "execution_count": null,
   "metadata": {},
   "outputs": [],
   "source": []
  },
  {
   "cell_type": "code",
   "execution_count": null,
   "metadata": {},
   "outputs": [],
   "source": []
  },
  {
   "cell_type": "code",
   "execution_count": null,
   "metadata": {},
   "outputs": [],
   "source": []
  }
 ],
 "metadata": {
  "anaconda-cloud": {},
  "hide_input": false,
  "kernelspec": {
   "display_name": "Python 3",
   "language": "python",
   "name": "python3"
  },
  "language_info": {
   "codemirror_mode": {
    "name": "ipython",
    "version": 3
   },
   "file_extension": ".py",
   "mimetype": "text/x-python",
   "name": "python",
   "nbconvert_exporter": "python",
   "pygments_lexer": "ipython3",
   "version": "3.6.5"
  },
  "toc": {
   "base_numbering": 1,
   "nav_menu": {
    "height": "208px",
    "width": "252px"
   },
   "number_sections": true,
   "sideBar": true,
   "skip_h1_title": false,
   "title_cell": "Table of Contents",
   "title_sidebar": "Contents",
   "toc_cell": false,
   "toc_position": {},
   "toc_section_display": "block",
   "toc_window_display": true
  },
  "varInspector": {
   "cols": {
    "lenName": 16,
    "lenType": 16,
    "lenVar": 40
   },
   "kernels_config": {
    "python": {
     "delete_cmd_postfix": "",
     "delete_cmd_prefix": "del ",
     "library": "var_list.py",
     "varRefreshCmd": "print(var_dic_list())"
    },
    "r": {
     "delete_cmd_postfix": ") ",
     "delete_cmd_prefix": "rm(",
     "library": "var_list.r",
     "varRefreshCmd": "cat(var_dic_list()) "
    }
   },
   "types_to_exclude": [
    "module",
    "function",
    "builtin_function_or_method",
    "instance",
    "_Feature"
   ],
   "window_display": false
  },
  "widgets": {
   "state": {
    "1f2b33bdbf62410e92177b1ae2e22d0e": {
     "views": [
      {
       "cell_index": 9
      }
     ]
    }
   },
   "version": "1.2.0"
  }
 },
 "nbformat": 4,
 "nbformat_minor": 2
}
